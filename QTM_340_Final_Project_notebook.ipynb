{
  "nbformat": 4,
  "nbformat_minor": 0,
  "metadata": {
    "colab": {
      "name": "QTM 340 - Final Project.ipynb",
      "provenance": [],
      "collapsed_sections": [
        "IdznxOyTAIUg",
        "XBltDF9XObx7",
        "Bi3Iqu3LAlhd",
        "bgtyN_xcDVPA",
        "rJz5VQgw_vSn",
        "bJVBsdDZ9hnJ",
        "L2drxC_tmL_1"
      ],
      "include_colab_link": true
    },
    "kernelspec": {
      "name": "python3",
      "display_name": "Python 3"
    },
    "language_info": {
      "name": "python"
    }
  },
  "cells": [
    {
      "cell_type": "markdown",
      "metadata": {
        "id": "view-in-github",
        "colab_type": "text"
      },
      "source": [
        "<a href=\"https://colab.research.google.com/github/nikivasan/NLP-Genius-Sentiment-Analysis/blob/main/QTM_340_Final_Project_notebook.ipynb\" target=\"_parent\"><img src=\"https://colab.research.google.com/assets/colab-badge.svg\" alt=\"Open In Colab\"/></a>"
      ]
    },
    {
      "cell_type": "markdown",
      "metadata": {
        "id": "IdznxOyTAIUg"
      },
      "source": [
        "# QTM 340 Final Project \n",
        "## Sentiment Analysis by Gender on 2020’s Top Albums\n",
        "**By Rose Feng and Niki Vasan**\n"
      ]
    },
    {
      "cell_type": "markdown",
      "metadata": {
        "id": "IxhReSpA_hTr"
      },
      "source": [
        "**Here is a list of the albums we will be working with in this project:**\n",
        "\n",
        "Top 10 Albums by [Female Artists](https://www.billboard.com/charts/year-end/top-billboard-200-albums) (2020)\n",
        "1. *Folklore* by Taylor Swift (16) \n",
        "2. *When We All Fall Asleep, Where Do We Go?* by Billie Eilish (13)\n",
        "3. *Lover* by Taylor Swift (18)\n",
        "4. *Over it* by Summer Walker (18)\n",
        "5. *Manic* by Halsey (16)\n",
        "6. *Chilombo* by Jhene Aiko (20)\n",
        "7. *Hot Pink* by Doja Cat (12)\n",
        "8. *Cuz I Love You* by Lizzo (11) \n",
        "9. *Dont Smile At Me* by Billie Eilish (9)\n",
        "10. *Chromatica* by Lady Gaga (16) \n",
        "\n",
        "Top 10 Albums by [Male Artists](https://www.billboard.com/charts/year-end/top-billboard-200-albums) (2020)\n",
        "1. *Hollywood's bleeding* by Post Malone (17)\n",
        "2. *My Turn* by Lil Baby (20)\n",
        "3. *Please Excuse Me For Being Antisocial* by Roddy Ricch (16) \n",
        "4. *Fine Line* by Harry Styles (12) \n",
        "5. *Eternal Atake* by Lil Uzi Vert (18) \n",
        "6. *Shoot For The Stars Aim For The Moon* by Pop Smoke (34) \n",
        "7. *After Hours* by The Weekend (14) \n",
        "8. *Legends Never Die* by Juice WRLD (22) \n",
        "9. *What You See Is What You Get* by Luke Combs (18) \n",
        "10. *YHLQMDLG* by Bad Bunny (20) "
      ]
    },
    {
      "cell_type": "markdown",
      "metadata": {
        "id": "j6VZwdkiAP53"
      },
      "source": [
        "# Stage 1: Create Dataset\n",
        "\n"
      ]
    },
    {
      "cell_type": "markdown",
      "metadata": {
        "id": "XBltDF9XObx7"
      },
      "source": [
        "### Set Up"
      ]
    },
    {
      "cell_type": "markdown",
      "metadata": {
        "id": "1LbDoETbAfse"
      },
      "source": [
        "Our goal is to have 20 directories for each of the top 10 male and female albums of 2020. Each directory will contain text files of the song lyrics of each song in the album (as separate files). In our analysis stage, we will use the documents (text files of song lyrics) as our units of analysis for the sentiment analyzer. This way, we will be able to gather and aggregate our sentiment scores per album, allowing us to compare across albums and ultimately, across genders. \n",
        "\n",
        "To accomplish this, we need to scrape the lyrics of each album. We will first need to install the packages we will need to scrape and clean the data. \n"
      ]
    },
    {
      "cell_type": "code",
      "metadata": {
        "id": "chyPkBJJ3CUT",
        "colab": {
          "base_uri": "https://localhost:8080/"
        },
        "outputId": "39ce51de-dc88-4969-c969-961b19d3bec2"
      },
      "source": [
        "# connect personal gdrive to colab \n",
        "from google.colab import drive\n",
        "drive.mount('/content/drive')"
      ],
      "execution_count": null,
      "outputs": [
        {
          "output_type": "stream",
          "name": "stdout",
          "text": [
            "Mounted at /content/drive\n"
          ]
        }
      ]
    },
    {
      "cell_type": "code",
      "metadata": {
        "id": "qpI5DyMK8GxM"
      },
      "source": [
        "%%capture\n",
        "!pip install lyricsgenius"
      ],
      "execution_count": null,
      "outputs": []
    },
    {
      "cell_type": "code",
      "metadata": {
        "id": "cXOqctap6BRK"
      },
      "source": [
        "# import necessary libraries \n",
        "import pandas as pd\n",
        "import numpy as np\n",
        "import json\n",
        "import requests\n",
        "import lyricsgenius # library for scraping genius albums \n",
        "import json\n",
        "import re\n",
        "import os\n",
        "import io\n",
        "import gwpy\n",
        "\n",
        "\n",
        "from bs4 import BeautifulSoup"
      ],
      "execution_count": null,
      "outputs": []
    },
    {
      "cell_type": "markdown",
      "metadata": {
        "id": "gMLiNXmULn8O"
      },
      "source": [
        "Next we can save our client access token to a variable for future use. "
      ]
    },
    {
      "cell_type": "code",
      "metadata": {
        "id": "HR8B76YZ6kMX"
      },
      "source": [
        "client_access_token = \"FWryXFr9A3Quzkz1ygEuPLDDBVjZ03-z3QnCh3cfrV7bhmpiyqklyOK7HanSk4w8\" \n",
        "genius = lyricsgenius.Genius(client_access_token)"
      ],
      "execution_count": null,
      "outputs": []
    },
    {
      "cell_type": "markdown",
      "metadata": {
        "id": "ggX9UqmlL3NV"
      },
      "source": [
        "The `lyricsgenius` package acts as a wrapper to the genius API. We will use that to get a json file of the album, that stores information for every track in an album. I'll use Taylor Swift's album *Folklore* as an example. "
      ]
    },
    {
      "cell_type": "markdown",
      "metadata": {
        "id": "1U7EYyGbOVeo"
      },
      "source": [
        "### Example Walkthrough"
      ]
    },
    {
      "cell_type": "markdown",
      "metadata": {
        "id": "p7rQrb6oOkcV"
      },
      "source": [
        "Our process to get the song lyrics has **three** steps. \n",
        "\n",
        "1. First, we will parse the json file created above to create a dictionary of the song title and the principal artist (which will be the same for every song in this case) of each song on the album. For the purposes of our analysis, we will not be including featured artists. "
      ]
    },
    {
      "cell_type": "code",
      "metadata": {
        "id": "0ErxYmNbAgLp"
      },
      "source": [
        "albumtitle = genius.search_album(\"Folklore\", \"Taylor Swift\") # use lyricsgenius wrapper to genius api search query\n",
        "albumtitle.save_lyrics()\n",
        "\n",
        "folklore_dict = {} # dictionary to store artist name and song title \n",
        "with open('Lyrics_folklore.json') as a:\n",
        "    folklore_json = json.load(a) # load album object \n",
        "    song_artist = folklore_json['artist']['name'] # use artist from the album not from song (remove features)\n",
        "    for track in folklore_json['tracks']: \n",
        "      song_title = track['song']['title']\n",
        "      song_title = re.sub('\\u200b', '', song_title) # remove unnecessary characters before song title \n",
        "      folklore_dict[song_title] = song_artist # key: song title, value: artist\n",
        "folklore_dict "
      ],
      "execution_count": null,
      "outputs": []
    },
    {
      "cell_type": "markdown",
      "metadata": {
        "id": "x7lU9EXWPNI8"
      },
      "source": [
        "2.  Next, we will iterate through our dictionary of songs and pass them into Genius API's search query feature, so that we can get a dictionary of the urls for each song.  "
      ]
    },
    {
      "cell_type": "code",
      "metadata": {
        "id": "6qzDnl0nJzkt"
      },
      "source": [
        "folklore_url_dict = {} # dictionary to store urls \n",
        "\n",
        "for item in folklore_dict: # iterate through artist and song title \n",
        "    song_title = item\n",
        "    song_artist = folklore_dict[item]\n",
        "        \n",
        "    # URL for a search via the Genius API:\n",
        "    genius_search_url = f'http://api.genius.com/search?q={song_title}&access_token={client_access_token}'\n",
        "\n",
        "    # API call\n",
        "    resp = requests.get(genius_search_url)\n",
        "    data = resp.json() # save as json \n",
        "    \n",
        "    # now search for match w/ artist \n",
        "    for song in data['response']['hits']:\n",
        "        if song['result']['primary_artist']['name'] == song_artist:\n",
        "            # if there's a match, get the url\n",
        "            lyrics_url = song['result']['url']\n",
        "            folklore_url_dict[song_title] = lyrics_url\n",
        " \n",
        "            # break out of for loop if we've got a match \n",
        "            break\n",
        "            \n",
        "folklore_url_dict"
      ],
      "execution_count": null,
      "outputs": []
    },
    {
      "cell_type": "markdown",
      "metadata": {
        "id": "6dbMTjxcPb5d"
      },
      "source": [
        "3. Lastly, now that we've got a dictionary of URLs, we can scrape the lyrics for each song and write the output as a text file saved to the appropriate album.\n"
      ]
    },
    {
      "cell_type": "code",
      "metadata": {
        "id": "UtSm32tLKTq_"
      },
      "source": [
        "for item in folklore_url_dict:\n",
        "    song_title = item\n",
        "    song_artist = folklore_dict[item]   \n",
        "    song_url = folklore_url_dict[item]  \n",
        "\n",
        "    # get the contents of the lyrics page\n",
        "    resp = requests.get(song_url) \n",
        "    html_str = resp.text\n",
        "\n",
        "    # turn it into a BS object and get the lyrics div\n",
        "    document = BeautifulSoup(html_str, \"html.parser\") \n",
        "    lyrics_divs = document.find_all(\"div\", attrs={\"class\": re.compile(\"^Lyrics__Container.*$\")})\n",
        "\n",
        "    # now let's set up a list to store our lyrics\n",
        "    lyrics = []\n",
        "\n",
        "    for div in lyrics_divs:\n",
        "        lyrics.append(div.get_text(separator='\\n'))\n",
        "    \n",
        "    # list for clean lyrics \n",
        "    cleanest_lyrics = []\n",
        "    \n",
        "    for chunk in lyrics:\n",
        "        # remove square brackets \n",
        "        cleaner_chunk = re.sub(\"\\[.*\\]\", \"\", chunk)\n",
        "        # remove leading newlines \n",
        "        cleanest_chunk = re.sub(\"^[\\n]{2}\",\"\", cleaner_chunk)\n",
        "        # append the final version to the lyrics list\n",
        "        cleanest_lyrics.append(cleanest_chunk)\n",
        "\n",
        "    # store it in a file\n",
        "\n",
        "    # we'll use the final part of the URL as a filename \n",
        "    filename = song_url.replace(\"https://genius.com/\",\"\")\n",
        "    filename = filename.replace(\"-lyrics\",\"\") + \".txt\"\n",
        "    \n",
        "    # store the lyrics in the folder for the given album; \n",
        "    path = \"folklore/\" + filename\n",
        "    \n",
        "    # write lyrics to file \n",
        "    with open(path, \"w\") as file:\n",
        "        file.writelines(cleanest_lyrics)\n",
        "        print(\"Wrote lyrics to: \" + filename)"
      ],
      "execution_count": null,
      "outputs": []
    },
    {
      "cell_type": "markdown",
      "metadata": {
        "id": "nk8ClABrNfrG"
      },
      "source": [
        "To make this process easier, we decided to parametrize these steps and place them in a **function** that will take both the album title and artist name as inputs and return a directory with the lyrics of each song in the album. The code for this is below: "
      ]
    },
    {
      "cell_type": "markdown",
      "metadata": {
        "id": "zpCfwBkWkZGz"
      },
      "source": [
        "### GetAlbumLyrics Function "
      ]
    },
    {
      "cell_type": "code",
      "metadata": {
        "id": "nR2mwbcYEy8N"
      },
      "source": [
        "## Function to get album lyrics \n",
        "def getalbumlyrics(album_title, artist_name):\n",
        "\n",
        "  # ******************************** set default client access token *************************************************\n",
        "  client_access_token = \"FWryXFr9A3Quzkz1ygEuPLDDBVjZ03-z3QnCh3cfrV7bhmpiyqklyOK7HanSk4w8\" \n",
        "  genius = lyricsgenius.Genius(client_access_token)\n",
        "\n",
        "  # ***************************** get json file of track info in the album******************************************* \n",
        "  albumtitle = genius.search_album(album_title, artist_name) # use lyricsgenius wrapper to genius api search query\n",
        "  album_title = re.sub(\"[^a-zA-Z0-9]\", \"\", album_title) # remove spaces in input album title\n",
        "  albumtitle.save_lyrics() # write json output to a file \n",
        "\n",
        "  # ****************************get dictionary of song titles and album artist***************************************\n",
        "  album_dict = {}\n",
        "  with open(f'Lyrics_{album_title}.json') as a:\n",
        "    albumtitle_json = json.load(a) # load album object \n",
        "    song_artist = albumtitle_json['artist']['name'] # use artist from the album not from song (remove features)\n",
        "    for track in albumtitle_json['tracks']: \n",
        "      song_title = track['song']['title']\n",
        "      song_title = re.sub('\\u200b', '', song_title) # remove unnecessary characters before song title \n",
        "      album_dict[song_title] = song_artist # key: song title, value: artist\n",
        "  #print(album_dict)\n",
        "  \n",
        "   # **************************get a dictionary of songs and lyrics urls*************************************************\n",
        "  album_url_dict = {} # dictionary to store urls \n",
        "  for item in album_dict: # iterate through artist and song title \n",
        "      song_title = item\n",
        "      song_artist = album_dict[item] \n",
        "      # URL for a search via the Genius API:\n",
        "      genius_search_url = f'http://api.genius.com/search?q={song_title}&access_token={client_access_token}'\n",
        "      # API call\n",
        "      resp = requests.get(genius_search_url)\n",
        "      data = resp.json() # save as json \n",
        "      # now search for match w/ artist \n",
        "      for song in data['response']['hits']:\n",
        "          if song['result']['primary_artist']['name'] == song_artist:\n",
        "              # if there's a match, get the url\n",
        "              lyrics_url = song['result']['url']\n",
        "              album_url_dict[song_title] = lyrics_url\n",
        "              # status update so we can make sure we're on the right track...\n",
        "              print(\"Matched! Artist: \" + song_artist + \" and title: \" + song_title)\n",
        "              \n",
        "              break\n",
        "\n",
        "  #print(album_url_dict)\n",
        "\n",
        "  # ************************************************* write lyrics to folder ****************************************\n",
        " \n",
        "  for item in album_url_dict:\n",
        "    song_title = item\n",
        "    song_artist = album_dict[item]   \n",
        "    song_url = album_url_dict[item]  \n",
        "    # get the contents of the lyrics page\n",
        "    print(\"Requesting: \" + song_url)\n",
        "    resp = requests.get(song_url) \n",
        "    html_str = resp.text\n",
        "    # turn it into a BS object and get the lyrics div\n",
        "    document = BeautifulSoup(html_str, \"html.parser\") \n",
        "    lyrics_divs = document.find_all(\"div\", attrs={\"class\": re.compile(\"^Lyrics__Container.*$\")})\n",
        "    # now let's set up a list to store our lyrics\n",
        "    lyrics = []\n",
        "    for div in lyrics_divs:\n",
        "        lyrics.append(div.get_text(separator='\\n'))\n",
        "    # list for clean lyrics \n",
        "    cleanest_lyrics = []\n",
        "    for chunk in lyrics:\n",
        "        # remove square brackets \n",
        "        cleaner_chunk = re.sub(\"\\[.*\\]\", \"\", chunk)\n",
        "        # remove leading newlines \n",
        "        cleanest_chunk = re.sub(\"^[\\n]{2}\",\"\", cleaner_chunk)\n",
        "        # append the final version to the lyrics list\n",
        "        cleanest_lyrics.append(cleanest_chunk)\n",
        "\n",
        "    # we'll use the final part of the URL as a filename \n",
        "    filename = song_url.replace(\"https://genius.com/\",\"\")\n",
        "    filename = filename.replace(\"-lyrics\",\"\") + \".txt\"\n",
        "    # store the lyrics in the folder for the given album; \n",
        "    path = f\"{album_title}/\" + filename\n",
        "    print(path)\n",
        "\n",
        "    # create directory for album \n",
        "    if not os.path.exists(f'/content/{album_title}'):\n",
        "           os.mkdir(f'/content/{album_title}')\n",
        "\n",
        "    # write lyrics to directory \n",
        "    with open(path, \"w\") as file:\n",
        "        file.writelines(cleanest_lyrics)\n",
        "        print(\"Wrote lyrics to: \" + filename)\n"
      ],
      "execution_count": null,
      "outputs": []
    },
    {
      "cell_type": "markdown",
      "metadata": {
        "id": "z-Q-FZqhG-FO"
      },
      "source": [
        "## **Female Artists**"
      ]
    },
    {
      "cell_type": "markdown",
      "metadata": {
        "id": "T80DfhbwHBCR"
      },
      "source": [
        "### 1. Folklore by Taylor Swift"
      ]
    },
    {
      "cell_type": "code",
      "metadata": {
        "id": "wF_t_BBhHGPO"
      },
      "source": [
        "getalbumlyrics(\"folklore\", \"Taylor Swift\")"
      ],
      "execution_count": null,
      "outputs": []
    },
    {
      "cell_type": "markdown",
      "metadata": {
        "id": "Psh5nSa6HGv5"
      },
      "source": [
        "### 2. When We All Fall Asleep, Where Do We Go? By Billie Eilish"
      ]
    },
    {
      "cell_type": "code",
      "metadata": {
        "id": "55K-b2rcHKkR"
      },
      "source": [
        "getalbumlyrics(\"WHEN WE ALL FALL ASLEEP, WHERE DO WE GO\", \"Billie Eilish\")"
      ],
      "execution_count": null,
      "outputs": []
    },
    {
      "cell_type": "markdown",
      "metadata": {
        "id": "GP9Tbzn1HLU3"
      },
      "source": [
        "### 3. Lover by Taylor Swift"
      ]
    },
    {
      "cell_type": "code",
      "metadata": {
        "id": "fmPdD-_gHO5j",
        "colab": {
          "base_uri": "https://localhost:8080/"
        },
        "outputId": "83ae9b1a-39eb-4cd4-c306-e298ebc58495"
      },
      "source": [
        "getalbumlyrics(\"Lover\", \"Taylor Swift\")"
      ],
      "execution_count": null,
      "outputs": [
        {
          "output_type": "stream",
          "name": "stdout",
          "text": [
            "Searching for \"Lover\" by Taylor Swift...\n",
            "Wrote Lyrics_Lover.json.\n",
            "Matched! Artist: Taylor Swift and title: I Forgot That You Existed\n",
            "Matched! Artist: Taylor Swift and title: Cruel Summer\n",
            "Matched! Artist: Taylor Swift and title: Lover\n",
            "Matched! Artist: Taylor Swift and title: The Man\n",
            "Matched! Artist: Taylor Swift and title: The Archer\n",
            "Matched! Artist: Taylor Swift and title: I Think He Knows\n",
            "Matched! Artist: Taylor Swift and title: Miss Americana & The Heartbreak Prince\n",
            "Matched! Artist: Taylor Swift and title: Paper Rings\n",
            "Matched! Artist: Taylor Swift and title: Cornelia Street\n",
            "Matched! Artist: Taylor Swift and title: Death by a Thousand Cuts\n",
            "Matched! Artist: Taylor Swift and title: London Boy\n",
            "Matched! Artist: Taylor Swift and title: Soon You’ll Get Better\n",
            "Matched! Artist: Taylor Swift and title: False God\n",
            "Matched! Artist: Taylor Swift and title: You Need To Calm Down\n"
          ]
        }
      ]
    },
    {
      "cell_type": "markdown",
      "metadata": {
        "id": "iecQJPqxHPVH"
      },
      "source": [
        "### 4. Over It By Summer Walker"
      ]
    },
    {
      "cell_type": "code",
      "metadata": {
        "id": "kprzQCfrHRyI",
        "colab": {
          "base_uri": "https://localhost:8080/"
        },
        "outputId": "12804a6d-35c0-4880-d01a-3ab627d26f7c"
      },
      "source": [
        "getalbumlyrics(\"Over It\", \"Summer Walker\")"
      ],
      "execution_count": null,
      "outputs": [
        {
          "output_type": "stream",
          "name": "stdout",
          "text": [
            "Searching for \"Over It\" by Summer Walker...\n",
            "Wrote Lyrics_OverIt.json.\n",
            "Matched! Artist: Summer Walker and title: Over It\n",
            "Matched! Artist: Summer Walker and title: Body\n",
            "Matched! Artist: Summer Walker and title: Drunk Dialing…LODT\n",
            "Matched! Artist: Summer Walker and title: Potential\n",
            "Matched! Artist: Summer Walker and title: Fun Girl\n",
            "Matched! Artist: Summer Walker and title: Stretch You Out\n",
            "Matched! Artist: Summer Walker and title: Off of You\n",
            "Matched! Artist: Summer Walker and title: Anna Mae\n",
            "Matched! Artist: Summer Walker and title: I’ll Kill You\n",
            "Matched! Artist: Summer Walker and title: Nobody Else\n",
            "Matched! Artist: Summer Walker and title: Playing Games\n",
            "Requesting: https://genius.com/Summer-walker-over-it-lyrics\n",
            "OverIt/Summer-walker-over-it.txt\n",
            "Wrote lyrics to: Summer-walker-over-it.txt\n",
            "Requesting: https://genius.com/Summer-walker-body-lyrics\n",
            "OverIt/Summer-walker-body.txt\n",
            "Wrote lyrics to: Summer-walker-body.txt\n",
            "Requesting: https://genius.com/Summer-walker-drunk-dialing-lodt-lyrics\n",
            "OverIt/Summer-walker-drunk-dialing-lodt.txt\n",
            "Wrote lyrics to: Summer-walker-drunk-dialing-lodt.txt\n",
            "Requesting: https://genius.com/Summer-walker-potential-lyrics\n",
            "OverIt/Summer-walker-potential.txt\n",
            "Wrote lyrics to: Summer-walker-potential.txt\n",
            "Requesting: https://genius.com/Summer-walker-fun-girl-lyrics\n",
            "OverIt/Summer-walker-fun-girl.txt\n",
            "Wrote lyrics to: Summer-walker-fun-girl.txt\n",
            "Requesting: https://genius.com/Summer-walker-stretch-you-out-lyrics\n",
            "OverIt/Summer-walker-stretch-you-out.txt\n",
            "Wrote lyrics to: Summer-walker-stretch-you-out.txt\n",
            "Requesting: https://genius.com/Summer-walker-off-of-you-lyrics\n",
            "OverIt/Summer-walker-off-of-you.txt\n",
            "Wrote lyrics to: Summer-walker-off-of-you.txt\n",
            "Requesting: https://genius.com/Summer-walker-anna-mae-lyrics\n",
            "OverIt/Summer-walker-anna-mae.txt\n",
            "Wrote lyrics to: Summer-walker-anna-mae.txt\n",
            "Requesting: https://genius.com/Summer-walker-ill-kill-you-lyrics\n",
            "OverIt/Summer-walker-ill-kill-you.txt\n",
            "Wrote lyrics to: Summer-walker-ill-kill-you.txt\n",
            "Requesting: https://genius.com/Summer-walker-nobody-else-lyrics\n",
            "OverIt/Summer-walker-nobody-else.txt\n",
            "Wrote lyrics to: Summer-walker-nobody-else.txt\n",
            "Requesting: https://genius.com/Summer-walker-playing-games-lyrics\n",
            "OverIt/Summer-walker-playing-games.txt\n",
            "Wrote lyrics to: Summer-walker-playing-games.txt\n"
          ]
        }
      ]
    },
    {
      "cell_type": "markdown",
      "metadata": {
        "id": "MEJNESDKHSer"
      },
      "source": [
        "### 5. Manic by Halsey"
      ]
    },
    {
      "cell_type": "code",
      "metadata": {
        "id": "rURLwOYGHV3H",
        "colab": {
          "base_uri": "https://localhost:8080/"
        },
        "outputId": "bc3c084a-9b6a-4b3e-93dd-bbfa92eaa689"
      },
      "source": [
        "getalbumlyrics(\"Manic\", \"Halsey\")"
      ],
      "execution_count": null,
      "outputs": [
        {
          "output_type": "stream",
          "name": "stdout",
          "text": [
            "Searching for \"Manic\" by Halsey...\n",
            "Wrote Lyrics_Manic.json.\n",
            "Matched! Artist: Halsey and title: Ashley\n",
            "Matched! Artist: Halsey and title: clementine\n",
            "Matched! Artist: Halsey and title: Graveyard\n",
            "Matched! Artist: Halsey and title: You should be sad\n",
            "Matched! Artist: Halsey and title: Forever ... (is a long time)\n",
            "Matched! Artist: Halsey and title: I HATE EVERYBODY\n",
            "Matched! Artist: Halsey and title: 3am\n",
            "Matched! Artist: Halsey and title: Without Me\n",
            "Matched! Artist: Halsey and title: Finally // beautiful stranger\n",
            "Matched! Artist: Halsey and title: Alanis’ Interlude\n",
            "Matched! Artist: Halsey and title: killing boys\n",
            "Matched! Artist: Halsey and title: Still Learning\n",
            "Matched! Artist: Halsey and title: 929\n",
            "Requesting: https://genius.com/Halsey-without-me-lyrics\n",
            "Manic/Halsey-without-me.txt\n",
            "Wrote lyrics to: Halsey-without-me.txt\n",
            "Requesting: https://genius.com/Halsey-clementine-lyrics\n",
            "Manic/Halsey-clementine.txt\n",
            "Wrote lyrics to: Halsey-clementine.txt\n",
            "Requesting: https://genius.com/Halsey-graveyard-lyrics\n",
            "Manic/Halsey-graveyard.txt\n",
            "Wrote lyrics to: Halsey-graveyard.txt\n",
            "Requesting: https://genius.com/Halsey-you-should-be-sad-lyrics\n",
            "Manic/Halsey-you-should-be-sad.txt\n",
            "Wrote lyrics to: Halsey-you-should-be-sad.txt\n",
            "Requesting: https://genius.com/Halsey-forever-is-a-long-time-lyrics\n",
            "Manic/Halsey-forever-is-a-long-time.txt\n",
            "Wrote lyrics to: Halsey-forever-is-a-long-time.txt\n",
            "Requesting: https://genius.com/Halsey-i-hate-everybody-lyrics\n",
            "Manic/Halsey-i-hate-everybody.txt\n",
            "Wrote lyrics to: Halsey-i-hate-everybody.txt\n",
            "Requesting: https://genius.com/Halsey-3am-lyrics\n",
            "Manic/Halsey-3am.txt\n",
            "Wrote lyrics to: Halsey-3am.txt\n",
            "Requesting: https://genius.com/Halsey-without-me-lyrics\n",
            "Manic/Halsey-without-me.txt\n",
            "Wrote lyrics to: Halsey-without-me.txt\n",
            "Requesting: https://genius.com/Halsey-finally-beautiful-stranger-lyrics\n",
            "Manic/Halsey-finally-beautiful-stranger.txt\n",
            "Wrote lyrics to: Halsey-finally-beautiful-stranger.txt\n",
            "Requesting: https://genius.com/Halsey-alanis-interlude-stripped-lyrics\n",
            "Manic/Halsey-alanis-interlude-stripped.txt\n",
            "Wrote lyrics to: Halsey-alanis-interlude-stripped.txt\n",
            "Requesting: https://genius.com/Halsey-killing-boys-lyrics\n",
            "Manic/Halsey-killing-boys.txt\n",
            "Wrote lyrics to: Halsey-killing-boys.txt\n",
            "Requesting: https://genius.com/Halsey-still-learning-lyrics\n",
            "Manic/Halsey-still-learning.txt\n",
            "Wrote lyrics to: Halsey-still-learning.txt\n",
            "Requesting: https://genius.com/Halsey-929-lyrics\n",
            "Manic/Halsey-929.txt\n",
            "Wrote lyrics to: Halsey-929.txt\n"
          ]
        }
      ]
    },
    {
      "cell_type": "markdown",
      "metadata": {
        "id": "BEqzRIF-HWOg"
      },
      "source": [
        "### 6. Chilombo by Jhene Aiko"
      ]
    },
    {
      "cell_type": "code",
      "metadata": {
        "id": "79szvPqBHaRI"
      },
      "source": [
        "getalbumlyrics(\"Chilombo\", \"Jhene Aiko\")"
      ],
      "execution_count": null,
      "outputs": []
    },
    {
      "cell_type": "markdown",
      "metadata": {
        "id": "ieF1JLcrHakJ"
      },
      "source": [
        "### 7. Hot Pink by Doja Cat"
      ]
    },
    {
      "cell_type": "code",
      "metadata": {
        "id": "Hhu94K3qHeCQ",
        "colab": {
          "base_uri": "https://localhost:8080/"
        },
        "outputId": "9966c3a6-a321-4ca4-90f7-873452f89794"
      },
      "source": [
        "getalbumlyrics(\"Hot Pink\", \"Doja Cat\")"
      ],
      "execution_count": null,
      "outputs": [
        {
          "output_type": "stream",
          "name": "stdout",
          "text": [
            "Searching for \"Hot Pink\" by Doja Cat...\n",
            "Wrote Lyrics_HotPink.json.\n",
            "Matched! Artist: Doja Cat and title: Cyber Sex\n",
            "Matched! Artist: Doja Cat and title: Won’t Bite\n",
            "Matched! Artist: Doja Cat and title: Rules\n",
            "Matched! Artist: Doja Cat and title: Bottom Bitch\n",
            "Matched! Artist: Doja Cat and title: Say So\n",
            "Matched! Artist: Doja Cat and title: Like That\n",
            "Matched! Artist: Doja Cat and title: Talk Dirty\n",
            "Matched! Artist: Doja Cat and title: Addiction\n",
            "Matched! Artist: Doja Cat and title: Streets\n",
            "Matched! Artist: Doja Cat and title: Better Than Me\n",
            "Matched! Artist: Doja Cat and title: Juicy\n",
            "Requesting: https://genius.com/Doja-cat-cyber-sex-lyrics\n",
            "HotPink/Doja-cat-cyber-sex.txt\n",
            "Wrote lyrics to: Doja-cat-cyber-sex.txt\n",
            "Requesting: https://genius.com/Doja-cat-wont-bite-lyrics\n",
            "HotPink/Doja-cat-wont-bite.txt\n",
            "Wrote lyrics to: Doja-cat-wont-bite.txt\n",
            "Requesting: https://genius.com/Doja-cat-rules-lyrics\n",
            "HotPink/Doja-cat-rules.txt\n",
            "Wrote lyrics to: Doja-cat-rules.txt\n",
            "Requesting: https://genius.com/Doja-cat-bottom-bitch-lyrics\n",
            "HotPink/Doja-cat-bottom-bitch.txt\n",
            "Wrote lyrics to: Doja-cat-bottom-bitch.txt\n",
            "Requesting: https://genius.com/Doja-cat-say-so-lyrics\n",
            "HotPink/Doja-cat-say-so.txt\n",
            "Wrote lyrics to: Doja-cat-say-so.txt\n",
            "Requesting: https://genius.com/Doja-cat-like-that-lyrics\n",
            "HotPink/Doja-cat-like-that.txt\n",
            "Wrote lyrics to: Doja-cat-like-that.txt\n",
            "Requesting: https://genius.com/Doja-cat-talk-dirty-lyrics\n",
            "HotPink/Doja-cat-talk-dirty.txt\n",
            "Wrote lyrics to: Doja-cat-talk-dirty.txt\n",
            "Requesting: https://genius.com/Doja-cat-addiction-lyrics\n",
            "HotPink/Doja-cat-addiction.txt\n",
            "Wrote lyrics to: Doja-cat-addiction.txt\n",
            "Requesting: https://genius.com/Doja-cat-streets-lyrics\n",
            "HotPink/Doja-cat-streets.txt\n",
            "Wrote lyrics to: Doja-cat-streets.txt\n",
            "Requesting: https://genius.com/Doja-cat-better-than-me-lyrics\n",
            "HotPink/Doja-cat-better-than-me.txt\n",
            "Wrote lyrics to: Doja-cat-better-than-me.txt\n",
            "Requesting: https://genius.com/Doja-cat-juicy-lyrics\n",
            "HotPink/Doja-cat-juicy.txt\n",
            "Wrote lyrics to: Doja-cat-juicy.txt\n"
          ]
        }
      ]
    },
    {
      "cell_type": "markdown",
      "metadata": {
        "id": "Ad3FQyiEHeXY"
      },
      "source": [
        "### 8. Cuz I Love You by Lizzo"
      ]
    },
    {
      "cell_type": "code",
      "metadata": {
        "id": "bkrUxfATHiRi",
        "colab": {
          "base_uri": "https://localhost:8080/"
        },
        "outputId": "6e508c4b-dbea-4f34-cf9a-f743e611a411"
      },
      "source": [
        "getalbumlyrics(\"Cuz I Love You\", \"Lizzo\")"
      ],
      "execution_count": null,
      "outputs": [
        {
          "output_type": "stream",
          "name": "stdout",
          "text": [
            "Searching for \"Cuz I Love You\" by Lizzo...\n",
            "Wrote Lyrics_CuzILoveYou.json.\n",
            "Matched! Artist: Lizzo and title: Cuz I Love You\n",
            "Matched! Artist: Lizzo and title: Like a Girl\n",
            "Matched! Artist: Lizzo and title: Soulmate\n",
            "Matched! Artist: Lizzo and title: Tempo\n",
            "Matched! Artist: Lizzo and title: Exactly How I Feel\n",
            "Matched! Artist: Lizzo and title: Better in Color\n",
            "Matched! Artist: Lizzo and title: Heaven Help Me\n",
            "Matched! Artist: Lizzo and title: Lingerie\n",
            "Requesting: https://genius.com/Lizzo-cuz-i-love-you-lyrics\n",
            "CuzILoveYou/Lizzo-cuz-i-love-you.txt\n",
            "Wrote lyrics to: Lizzo-cuz-i-love-you.txt\n",
            "Requesting: https://genius.com/Lizzo-like-a-girl-lyrics\n",
            "CuzILoveYou/Lizzo-like-a-girl.txt\n",
            "Wrote lyrics to: Lizzo-like-a-girl.txt\n",
            "Requesting: https://genius.com/Lizzo-soulmate-lyrics\n",
            "CuzILoveYou/Lizzo-soulmate.txt\n",
            "Wrote lyrics to: Lizzo-soulmate.txt\n",
            "Requesting: https://genius.com/Lizzo-tempo-lyrics\n",
            "CuzILoveYou/Lizzo-tempo.txt\n",
            "Wrote lyrics to: Lizzo-tempo.txt\n",
            "Requesting: https://genius.com/Lizzo-exactly-how-i-feel-lyrics\n",
            "CuzILoveYou/Lizzo-exactly-how-i-feel.txt\n",
            "Wrote lyrics to: Lizzo-exactly-how-i-feel.txt\n",
            "Requesting: https://genius.com/Lizzo-better-in-color-lyrics\n",
            "CuzILoveYou/Lizzo-better-in-color.txt\n",
            "Wrote lyrics to: Lizzo-better-in-color.txt\n",
            "Requesting: https://genius.com/Lizzo-heaven-help-me-lyrics\n",
            "CuzILoveYou/Lizzo-heaven-help-me.txt\n",
            "Wrote lyrics to: Lizzo-heaven-help-me.txt\n",
            "Requesting: https://genius.com/Lizzo-lingerie-lyrics\n",
            "CuzILoveYou/Lizzo-lingerie.txt\n",
            "Wrote lyrics to: Lizzo-lingerie.txt\n"
          ]
        }
      ]
    },
    {
      "cell_type": "markdown",
      "metadata": {
        "id": "iYNd7QYbHi6Q"
      },
      "source": [
        "### 9. Don't Smile At Me by Billie Eilish"
      ]
    },
    {
      "cell_type": "code",
      "metadata": {
        "id": "nKwnnvpsHmf6",
        "colab": {
          "base_uri": "https://localhost:8080/"
        },
        "outputId": "0ccc4549-9297-41aa-b3cf-d92033b01451"
      },
      "source": [
        "getalbumlyrics(\"dont smile at me\", \"Billie Eilish\")"
      ],
      "execution_count": null,
      "outputs": [
        {
          "output_type": "stream",
          "name": "stdout",
          "text": [
            "Searching for \"dont smile at me\" by Billie Eilish...\n",
            "Lyrics_dontsmileatme.json already exists. Overwrite?\n",
            "(y/n): y\n",
            "Wrote Lyrics_dontsmileatme.json.\n",
            "Matched! Artist: Billie Eilish and title: COPYCAT\n",
            "Matched! Artist: Billie Eilish and title: idontwannabeyouanymore\n",
            "Matched! Artist: Billie Eilish and title: my boy\n",
            "Matched! Artist: Billie Eilish and title: watch\n",
            "Matched! Artist: Billie Eilish and title: party favor\n",
            "Matched! Artist: Billie Eilish and title: bellyache\n",
            "Matched! Artist: Billie Eilish and title: ocean eyes\n",
            "Matched! Artist: Billie Eilish and title: hostage\n",
            "Requesting: https://genius.com/Billie-eilish-copycat-lyrics\n",
            "dontsmileatme/Billie-eilish-copycat.txt\n",
            "Wrote lyrics to: Billie-eilish-copycat.txt\n",
            "Requesting: https://genius.com/Billie-eilish-idontwannabeyouanymore-lyrics\n",
            "dontsmileatme/Billie-eilish-idontwannabeyouanymore.txt\n",
            "Wrote lyrics to: Billie-eilish-idontwannabeyouanymore.txt\n",
            "Requesting: https://genius.com/Billie-eilish-my-boy-lyrics\n",
            "dontsmileatme/Billie-eilish-my-boy.txt\n",
            "Wrote lyrics to: Billie-eilish-my-boy.txt\n",
            "Requesting: https://genius.com/Billie-eilish-watch-lyrics\n",
            "dontsmileatme/Billie-eilish-watch.txt\n",
            "Wrote lyrics to: Billie-eilish-watch.txt\n",
            "Requesting: https://genius.com/Billie-eilish-party-favor-lyrics\n",
            "dontsmileatme/Billie-eilish-party-favor.txt\n",
            "Wrote lyrics to: Billie-eilish-party-favor.txt\n",
            "Requesting: https://genius.com/Billie-eilish-bellyache-lyrics\n",
            "dontsmileatme/Billie-eilish-bellyache.txt\n",
            "Wrote lyrics to: Billie-eilish-bellyache.txt\n",
            "Requesting: https://genius.com/Billie-eilish-ocean-eyes-lyrics\n",
            "dontsmileatme/Billie-eilish-ocean-eyes.txt\n",
            "Wrote lyrics to: Billie-eilish-ocean-eyes.txt\n",
            "Requesting: https://genius.com/Billie-eilish-hostage-lyrics\n",
            "dontsmileatme/Billie-eilish-hostage.txt\n",
            "Wrote lyrics to: Billie-eilish-hostage.txt\n"
          ]
        }
      ]
    },
    {
      "cell_type": "markdown",
      "metadata": {
        "id": "I8J3mobgHnIU"
      },
      "source": [
        "### 10. Chromatica by Lady Gaga"
      ]
    },
    {
      "cell_type": "code",
      "metadata": {
        "id": "KtZ9Up7pHq6o"
      },
      "source": [
        "getalbumlyrics(\"Chromatica\", \"Lady Gaga\")"
      ],
      "execution_count": null,
      "outputs": []
    },
    {
      "cell_type": "markdown",
      "metadata": {
        "id": "Bi3Iqu3LAlhd"
      },
      "source": [
        "##**Male Artists**"
      ]
    },
    {
      "cell_type": "markdown",
      "metadata": {
        "id": "dQQs_nYcA5FY"
      },
      "source": [
        "### 1. Hollywood's Bleeding by Post Malone"
      ]
    },
    {
      "cell_type": "code",
      "metadata": {
        "colab": {
          "base_uri": "https://localhost:8080/"
        },
        "id": "v_6mboCqAtIc",
        "outputId": "6b2657fe-6e77-40ea-c34f-cc668ab249f5"
      },
      "source": [
        "getalbumlyrics(\"Hollywood's Bleeding\", \"Post Malone\")"
      ],
      "execution_count": null,
      "outputs": [
        {
          "output_type": "stream",
          "name": "stdout",
          "text": [
            "Searching for \"Hollywood's Bleeding\" by Post Malone...\n",
            "Lyrics_HollywoodsBleeding.json already exists. Overwrite?\n",
            "(y/n): y\n",
            "Wrote Lyrics_HollywoodsBleeding.json.\n",
            "Matched! Artist: Post Malone and title: Hollywood’s Bleeding\n",
            "Matched! Artist: Post Malone and title: Saint-Tropez\n",
            "Matched! Artist: Post Malone and title: Enemies\n",
            "Matched! Artist: Post Malone and title: Allergic\n",
            "Matched! Artist: Post Malone and title: A Thousand Bad Times\n",
            "Matched! Artist: Post Malone and title: Circles\n",
            "Matched! Artist: Post Malone and title: Die For Me\n",
            "Matched! Artist: Post Malone and title: On the Road\n",
            "Matched! Artist: Post Malone and title: Take What You Want\n",
            "Matched! Artist: Post Malone and title: I’m Gonna Be\n",
            "Matched! Artist: Post Malone and title: Staring at the Sun\n",
            "Matched! Artist: Post Malone and title: Internet\n",
            "Matched! Artist: Post Malone and title: Goodbyes\n",
            "Matched! Artist: Post Malone and title: Wow.\n",
            "Requesting: https://genius.com/Post-malone-hollywoods-bleeding-lyrics\n",
            "HollywoodsBleeding/Post-malone-hollywoods-bleeding.txt\n",
            "Wrote lyrics to: Post-malone-hollywoods-bleeding.txt\n",
            "Requesting: https://genius.com/Post-malone-saint-tropez-lyrics\n",
            "HollywoodsBleeding/Post-malone-saint-tropez.txt\n",
            "Wrote lyrics to: Post-malone-saint-tropez.txt\n",
            "Requesting: https://genius.com/Post-malone-enemies-lyrics\n",
            "HollywoodsBleeding/Post-malone-enemies.txt\n",
            "Wrote lyrics to: Post-malone-enemies.txt\n",
            "Requesting: https://genius.com/Post-malone-allergic-lyrics\n",
            "HollywoodsBleeding/Post-malone-allergic.txt\n",
            "Wrote lyrics to: Post-malone-allergic.txt\n",
            "Requesting: https://genius.com/Post-malone-a-thousand-bad-times-lyrics\n",
            "HollywoodsBleeding/Post-malone-a-thousand-bad-times.txt\n",
            "Wrote lyrics to: Post-malone-a-thousand-bad-times.txt\n",
            "Requesting: https://genius.com/Post-malone-circles-lyrics\n",
            "HollywoodsBleeding/Post-malone-circles.txt\n",
            "Wrote lyrics to: Post-malone-circles.txt\n",
            "Requesting: https://genius.com/Post-malone-die-for-me-lyrics\n",
            "HollywoodsBleeding/Post-malone-die-for-me.txt\n",
            "Wrote lyrics to: Post-malone-die-for-me.txt\n",
            "Requesting: https://genius.com/Post-malone-on-the-road-lyrics\n",
            "HollywoodsBleeding/Post-malone-on-the-road.txt\n",
            "Wrote lyrics to: Post-malone-on-the-road.txt\n",
            "Requesting: https://genius.com/Post-malone-take-what-you-want-lyrics\n",
            "HollywoodsBleeding/Post-malone-take-what-you-want.txt\n",
            "Wrote lyrics to: Post-malone-take-what-you-want.txt\n",
            "Requesting: https://genius.com/Post-malone-im-gonna-be-lyrics\n",
            "HollywoodsBleeding/Post-malone-im-gonna-be.txt\n",
            "Wrote lyrics to: Post-malone-im-gonna-be.txt\n",
            "Requesting: https://genius.com/Post-malone-staring-at-the-sun-lyrics\n",
            "HollywoodsBleeding/Post-malone-staring-at-the-sun.txt\n",
            "Wrote lyrics to: Post-malone-staring-at-the-sun.txt\n",
            "Requesting: https://genius.com/Post-malone-internet-lyrics\n",
            "HollywoodsBleeding/Post-malone-internet.txt\n",
            "Wrote lyrics to: Post-malone-internet.txt\n",
            "Requesting: https://genius.com/Post-malone-goodbyes-lyrics\n",
            "HollywoodsBleeding/Post-malone-goodbyes.txt\n",
            "Wrote lyrics to: Post-malone-goodbyes.txt\n",
            "Requesting: https://genius.com/Post-malone-wow-lyrics\n",
            "HollywoodsBleeding/Post-malone-wow.txt\n",
            "Wrote lyrics to: Post-malone-wow.txt\n"
          ]
        }
      ]
    },
    {
      "cell_type": "markdown",
      "metadata": {
        "id": "cU65z1iBCBzZ"
      },
      "source": [
        "### 2. My Turn by Lil Baby"
      ]
    },
    {
      "cell_type": "code",
      "metadata": {
        "colab": {
          "base_uri": "https://localhost:8080/"
        },
        "id": "j5mcetX-CEbf",
        "outputId": "e236e784-44e8-4539-ce30-8313f0a47baa"
      },
      "source": [
        "getalbumlyrics(\"My Turn\", \"Lil Baby\")"
      ],
      "execution_count": null,
      "outputs": [
        {
          "output_type": "stream",
          "name": "stdout",
          "text": [
            "Searching for \"My Turn\" by Lil Baby...\n",
            "Lyrics_MyTurn.json already exists. Overwrite?\n",
            "(y/n): y\n",
            "Wrote Lyrics_MyTurn.json.\n",
            "Matched! Artist: Lil Baby and title: Get Ugly\n",
            "Matched! Artist: Lil Baby and title: Woah\n",
            "Matched! Artist: Lil Baby and title: Live Off My Closet\n",
            "Matched! Artist: Lil Baby and title: Same Thing\n",
            "Matched! Artist: Lil Baby and title: Emotionally Scarred\n",
            "Matched! Artist: Lil Baby and title: Commercial\n",
            "Matched! Artist: Lil Baby and title: Can’t Explain\n",
            "Matched! Artist: Lil Baby and title: Sum 2 Prove\n",
            "Matched! Artist: Lil Baby and title: Catch the Sun\n",
            "Matched! Artist: Lil Baby and title: Consistent\n",
            "Matched! Artist: Lil Baby and title: Gang Signs\n",
            "Matched! Artist: Lil Baby and title: Hurtin\n",
            "Matched! Artist: Lil Baby and title: Solid\n",
            "Requesting: https://genius.com/Lil-baby-get-ugly-lyrics\n",
            "MyTurn/Lil-baby-get-ugly.txt\n",
            "Wrote lyrics to: Lil-baby-get-ugly.txt\n",
            "Requesting: https://genius.com/Lil-baby-woah-lyrics\n",
            "MyTurn/Lil-baby-woah.txt\n",
            "Wrote lyrics to: Lil-baby-woah.txt\n",
            "Requesting: https://genius.com/Lil-baby-live-off-my-closet-lyrics\n",
            "MyTurn/Lil-baby-live-off-my-closet.txt\n",
            "Wrote lyrics to: Lil-baby-live-off-my-closet.txt\n",
            "Requesting: https://genius.com/Lil-baby-same-thing-lyrics\n",
            "MyTurn/Lil-baby-same-thing.txt\n",
            "Wrote lyrics to: Lil-baby-same-thing.txt\n",
            "Requesting: https://genius.com/Lil-baby-emotionally-scarred-lyrics\n",
            "MyTurn/Lil-baby-emotionally-scarred.txt\n",
            "Wrote lyrics to: Lil-baby-emotionally-scarred.txt\n",
            "Requesting: https://genius.com/Lil-baby-commercial-lyrics\n",
            "MyTurn/Lil-baby-commercial.txt\n",
            "Wrote lyrics to: Lil-baby-commercial.txt\n",
            "Requesting: https://genius.com/Lil-baby-cant-explain-lyrics\n",
            "MyTurn/Lil-baby-cant-explain.txt\n",
            "Wrote lyrics to: Lil-baby-cant-explain.txt\n",
            "Requesting: https://genius.com/Lil-baby-sum-2-prove-lyrics\n",
            "MyTurn/Lil-baby-sum-2-prove.txt\n",
            "Wrote lyrics to: Lil-baby-sum-2-prove.txt\n",
            "Requesting: https://genius.com/Lil-baby-catch-the-sun-lyrics\n",
            "MyTurn/Lil-baby-catch-the-sun.txt\n",
            "Wrote lyrics to: Lil-baby-catch-the-sun.txt\n",
            "Requesting: https://genius.com/Lil-baby-consistent-lyrics\n",
            "MyTurn/Lil-baby-consistent.txt\n",
            "Wrote lyrics to: Lil-baby-consistent.txt\n",
            "Requesting: https://genius.com/Lil-baby-gang-signs-lyrics\n",
            "MyTurn/Lil-baby-gang-signs.txt\n",
            "Wrote lyrics to: Lil-baby-gang-signs.txt\n",
            "Requesting: https://genius.com/Lil-baby-hurtin-lyrics\n",
            "MyTurn/Lil-baby-hurtin.txt\n",
            "Wrote lyrics to: Lil-baby-hurtin.txt\n",
            "Requesting: https://genius.com/Lil-baby-solid-lyrics\n",
            "MyTurn/Lil-baby-solid.txt\n",
            "Wrote lyrics to: Lil-baby-solid.txt\n"
          ]
        }
      ]
    },
    {
      "cell_type": "markdown",
      "metadata": {
        "id": "44uWaZU2Gavo"
      },
      "source": [
        "### 3. Please Excuse Me For Being Antisocial by Roddy Ricch"
      ]
    },
    {
      "cell_type": "code",
      "metadata": {
        "colab": {
          "base_uri": "https://localhost:8080/"
        },
        "id": "acZ4_c8LGZGl",
        "outputId": "772eda9b-bbe3-4318-d35a-efce1047845d"
      },
      "source": [
        "getalbumlyrics(\"Please Excuse Me for Being Antisocial\", \"Roddy Ricch\")"
      ],
      "execution_count": null,
      "outputs": [
        {
          "output_type": "stream",
          "name": "stdout",
          "text": [
            "Searching for \"Please Excuse Me for Being Antisocial\" by Roddy Ricch...\n",
            "Lyrics_PleaseExcuseMeforBeingAntisocial.json already exists. Overwrite?\n",
            "(y/n): y\n",
            "Wrote Lyrics_PleaseExcuseMeforBeingAntisocial.json.\n",
            "Matched! Artist: Roddy Ricch and title: The Box\n",
            "Matched! Artist: Roddy Ricch and title: Start wit Me\n",
            "Matched! Artist: Roddy Ricch and title: Perfect Time\n",
            "Matched! Artist: Roddy Ricch and title: Moonwalkin\n",
            "Matched! Artist: Roddy Ricch and title: Big Stepper\n",
            "Matched! Artist: Roddy Ricch and title: Gods Eyes\n",
            "Matched! Artist: Roddy Ricch and title: Peta\n",
            "Matched! Artist: Roddy Ricch and title: Boom Boom Room\n",
            "Matched! Artist: Roddy Ricch and title: Elyse’s Skit\n",
            "Matched! Artist: Roddy Ricch and title: High Fashion\n",
            "Matched! Artist: Roddy Ricch and title: Bacc Seat\n",
            "Matched! Artist: Roddy Ricch and title: Roll Dice\n",
            "Matched! Artist: Roddy Ricch and title: Prayers to the Trap God\n",
            "Matched! Artist: Roddy Ricch and title: Tip Toe\n",
            "Matched! Artist: Roddy Ricch and title: War Baby\n",
            "Requesting: https://genius.com/Roddy-ricch-the-box-lyrics\n",
            "PleaseExcuseMeforBeingAntisocial/Roddy-ricch-the-box.txt\n",
            "Wrote lyrics to: Roddy-ricch-the-box.txt\n",
            "Requesting: https://genius.com/Roddy-ricch-start-wit-me-lyrics\n",
            "PleaseExcuseMeforBeingAntisocial/Roddy-ricch-start-wit-me.txt\n",
            "Wrote lyrics to: Roddy-ricch-start-wit-me.txt\n",
            "Requesting: https://genius.com/Roddy-ricch-perfect-time-lyrics\n",
            "PleaseExcuseMeforBeingAntisocial/Roddy-ricch-perfect-time.txt\n",
            "Wrote lyrics to: Roddy-ricch-perfect-time.txt\n",
            "Requesting: https://genius.com/Roddy-ricch-moonwalkin-lyrics\n",
            "PleaseExcuseMeforBeingAntisocial/Roddy-ricch-moonwalkin.txt\n",
            "Wrote lyrics to: Roddy-ricch-moonwalkin.txt\n",
            "Requesting: https://genius.com/Roddy-ricch-big-stepper-lyrics\n",
            "PleaseExcuseMeforBeingAntisocial/Roddy-ricch-big-stepper.txt\n",
            "Wrote lyrics to: Roddy-ricch-big-stepper.txt\n",
            "Requesting: https://genius.com/Roddy-ricch-gods-eyes-lyrics\n",
            "PleaseExcuseMeforBeingAntisocial/Roddy-ricch-gods-eyes.txt\n",
            "Wrote lyrics to: Roddy-ricch-gods-eyes.txt\n",
            "Requesting: https://genius.com/Roddy-ricch-peta-lyrics\n",
            "PleaseExcuseMeforBeingAntisocial/Roddy-ricch-peta.txt\n",
            "Wrote lyrics to: Roddy-ricch-peta.txt\n",
            "Requesting: https://genius.com/Roddy-ricch-boom-boom-room-lyrics\n",
            "PleaseExcuseMeforBeingAntisocial/Roddy-ricch-boom-boom-room.txt\n",
            "Wrote lyrics to: Roddy-ricch-boom-boom-room.txt\n",
            "Requesting: https://genius.com/Roddy-ricch-elyses-skit-lyrics\n",
            "PleaseExcuseMeforBeingAntisocial/Roddy-ricch-elyses-skit.txt\n",
            "Wrote lyrics to: Roddy-ricch-elyses-skit.txt\n",
            "Requesting: https://genius.com/Roddy-ricch-high-fashion-lyrics\n",
            "PleaseExcuseMeforBeingAntisocial/Roddy-ricch-high-fashion.txt\n",
            "Wrote lyrics to: Roddy-ricch-high-fashion.txt\n",
            "Requesting: https://genius.com/Roddy-ricch-bacc-seat-lyrics\n",
            "PleaseExcuseMeforBeingAntisocial/Roddy-ricch-bacc-seat.txt\n",
            "Wrote lyrics to: Roddy-ricch-bacc-seat.txt\n",
            "Requesting: https://genius.com/Roddy-ricch-roll-dice-lyrics\n",
            "PleaseExcuseMeforBeingAntisocial/Roddy-ricch-roll-dice.txt\n",
            "Wrote lyrics to: Roddy-ricch-roll-dice.txt\n",
            "Requesting: https://genius.com/Roddy-ricch-prayers-to-the-trap-god-lyrics\n",
            "PleaseExcuseMeforBeingAntisocial/Roddy-ricch-prayers-to-the-trap-god.txt\n",
            "Wrote lyrics to: Roddy-ricch-prayers-to-the-trap-god.txt\n",
            "Requesting: https://genius.com/Roddy-ricch-tip-toe-lyrics\n",
            "PleaseExcuseMeforBeingAntisocial/Roddy-ricch-tip-toe.txt\n",
            "Wrote lyrics to: Roddy-ricch-tip-toe.txt\n",
            "Requesting: https://genius.com/Roddy-ricch-war-baby-lyrics\n",
            "PleaseExcuseMeforBeingAntisocial/Roddy-ricch-war-baby.txt\n",
            "Wrote lyrics to: Roddy-ricch-war-baby.txt\n"
          ]
        }
      ]
    },
    {
      "cell_type": "markdown",
      "metadata": {
        "id": "Ecesm9R-Gofi"
      },
      "source": [
        "### 4. Fine Line by Harry Styles"
      ]
    },
    {
      "cell_type": "code",
      "metadata": {
        "colab": {
          "base_uri": "https://localhost:8080/"
        },
        "id": "0yrXygoaHNnU",
        "outputId": "3008db07-acab-4a4f-e703-11837dc624c7"
      },
      "source": [
        "getalbumlyrics(\"Fine Line\", \"Harry Styles\")"
      ],
      "execution_count": null,
      "outputs": [
        {
          "output_type": "stream",
          "name": "stdout",
          "text": [
            "Searching for \"Fine Line\" by Harry Styles...\n",
            "Wrote Lyrics_FineLine.json.\n",
            "Matched! Artist: Harry Styles and title: Golden\n",
            "Matched! Artist: Harry Styles and title: Watermelon Sugar\n",
            "Matched! Artist: Harry Styles and title: Adore You\n",
            "Matched! Artist: Harry Styles and title: Lights Up\n",
            "Matched! Artist: Harry Styles and title: Cherry\n",
            "Matched! Artist: Harry Styles and title: Falling\n",
            "Matched! Artist: Harry Styles and title: To Be So Lonely\n",
            "Matched! Artist: Harry Styles and title: Sunflower, Vol. 6\n",
            "Matched! Artist: Harry Styles and title: Canyon Moon\n",
            "Matched! Artist: Harry Styles and title: Treat People With Kindness\n",
            "Matched! Artist: Harry Styles and title: Fine Line\n",
            "Requesting: https://genius.com/Harry-styles-golden-lyrics\n",
            "FineLine/Harry-styles-golden.txt\n",
            "Wrote lyrics to: Harry-styles-golden.txt\n",
            "Requesting: https://genius.com/Harry-styles-watermelon-sugar-lyrics\n",
            "FineLine/Harry-styles-watermelon-sugar.txt\n",
            "Wrote lyrics to: Harry-styles-watermelon-sugar.txt\n",
            "Requesting: https://genius.com/Harry-styles-adore-you-lyrics\n",
            "FineLine/Harry-styles-adore-you.txt\n",
            "Wrote lyrics to: Harry-styles-adore-you.txt\n",
            "Requesting: https://genius.com/Harry-styles-lights-up-lyrics\n",
            "FineLine/Harry-styles-lights-up.txt\n",
            "Wrote lyrics to: Harry-styles-lights-up.txt\n",
            "Requesting: https://genius.com/Harry-styles-cherry-lyrics\n",
            "FineLine/Harry-styles-cherry.txt\n",
            "Wrote lyrics to: Harry-styles-cherry.txt\n",
            "Requesting: https://genius.com/Harry-styles-falling-lyrics\n",
            "FineLine/Harry-styles-falling.txt\n",
            "Wrote lyrics to: Harry-styles-falling.txt\n",
            "Requesting: https://genius.com/Harry-styles-to-be-so-lonely-lyrics\n",
            "FineLine/Harry-styles-to-be-so-lonely.txt\n",
            "Wrote lyrics to: Harry-styles-to-be-so-lonely.txt\n",
            "Requesting: https://genius.com/Harry-styles-sunflower-vol-6-lyrics\n",
            "FineLine/Harry-styles-sunflower-vol-6.txt\n",
            "Wrote lyrics to: Harry-styles-sunflower-vol-6.txt\n",
            "Requesting: https://genius.com/Harry-styles-canyon-moon-lyrics\n",
            "FineLine/Harry-styles-canyon-moon.txt\n",
            "Wrote lyrics to: Harry-styles-canyon-moon.txt\n",
            "Requesting: https://genius.com/Harry-styles-treat-people-with-kindness-lyrics\n",
            "FineLine/Harry-styles-treat-people-with-kindness.txt\n",
            "Wrote lyrics to: Harry-styles-treat-people-with-kindness.txt\n",
            "Requesting: https://genius.com/Harry-styles-fine-line-lyrics\n",
            "FineLine/Harry-styles-fine-line.txt\n",
            "Wrote lyrics to: Harry-styles-fine-line.txt\n"
          ]
        }
      ]
    },
    {
      "cell_type": "markdown",
      "metadata": {
        "id": "ePHtWnmAHcdI"
      },
      "source": [
        "### 5. Eternal Atake by Lil Uzi Vert "
      ]
    },
    {
      "cell_type": "code",
      "metadata": {
        "colab": {
          "base_uri": "https://localhost:8080/"
        },
        "id": "E6oV-NprHbld",
        "outputId": "02bbff14-0409-429c-932b-379455c00a7a"
      },
      "source": [
        "getalbumlyrics(\"Eternal Atake\", \"Lil Uzi Vert\")"
      ],
      "execution_count": null,
      "outputs": [
        {
          "output_type": "stream",
          "name": "stdout",
          "text": [
            "Searching for \"Eternal Atake\" by Lil Uzi Vert...\n",
            "Lyrics_EternalAtake.json already exists. Overwrite?\n",
            "(y/n): y\n",
            "Wrote Lyrics_EternalAtake.json.\n",
            "Matched! Artist: Lil Uzi Vert and title: Baby Pluto\n",
            "Matched! Artist: Lil Uzi Vert and title: Lo Mein\n",
            "Matched! Artist: Lil Uzi Vert and title: Silly Watch\n",
            "Matched! Artist: Lil Uzi Vert and title: You Better Move\n",
            "Matched! Artist: Lil Uzi Vert and title: Homecoming\n",
            "Matched! Artist: Lil Uzi Vert and title: I’m Sorry\n",
            "Matched! Artist: Lil Uzi Vert and title: Celebration Station\n",
            "Matched! Artist: Lil Uzi Vert and title: Bigger Than Life\n",
            "Matched! Artist: Lil Uzi Vert and title: Chrome Heart Tags\n",
            "Matched! Artist: Lil Uzi Vert and title: Bust Me\n",
            "Matched! Artist: Lil Uzi Vert and title: Prices\n",
            "Matched! Artist: Lil Uzi Vert and title: Urgency\n",
            "Matched! Artist: Lil Uzi Vert and title: Venetia\n",
            "Matched! Artist: Lil Uzi Vert and title: Secure the Bag\n",
            "Matched! Artist: Lil Uzi Vert and title: P2\n",
            "Matched! Artist: Lil Uzi Vert and title: Futsal Shuffle 2020\n",
            "Matched! Artist: Lil Uzi Vert and title: That Way\n",
            "Requesting: https://genius.com/Lil-uzi-vert-baby-pluto-lyrics\n",
            "EternalAtake/Lil-uzi-vert-baby-pluto.txt\n",
            "Wrote lyrics to: Lil-uzi-vert-baby-pluto.txt\n",
            "Requesting: https://genius.com/Lil-uzi-vert-lo-mein-lyrics\n",
            "EternalAtake/Lil-uzi-vert-lo-mein.txt\n",
            "Wrote lyrics to: Lil-uzi-vert-lo-mein.txt\n",
            "Requesting: https://genius.com/Lil-uzi-vert-silly-watch-lyrics\n",
            "EternalAtake/Lil-uzi-vert-silly-watch.txt\n",
            "Wrote lyrics to: Lil-uzi-vert-silly-watch.txt\n",
            "Requesting: https://genius.com/Lil-uzi-vert-you-better-move-lyrics\n",
            "EternalAtake/Lil-uzi-vert-you-better-move.txt\n",
            "Wrote lyrics to: Lil-uzi-vert-you-better-move.txt\n",
            "Requesting: https://genius.com/Lil-uzi-vert-homecoming-lyrics\n",
            "EternalAtake/Lil-uzi-vert-homecoming.txt\n",
            "Wrote lyrics to: Lil-uzi-vert-homecoming.txt\n",
            "Requesting: https://genius.com/Lil-uzi-vert-im-sorry-lyrics\n",
            "EternalAtake/Lil-uzi-vert-im-sorry.txt\n",
            "Wrote lyrics to: Lil-uzi-vert-im-sorry.txt\n",
            "Requesting: https://genius.com/Lil-uzi-vert-celebration-station-lyrics\n",
            "EternalAtake/Lil-uzi-vert-celebration-station.txt\n",
            "Wrote lyrics to: Lil-uzi-vert-celebration-station.txt\n",
            "Requesting: https://genius.com/Lil-uzi-vert-bigger-than-life-lyrics\n",
            "EternalAtake/Lil-uzi-vert-bigger-than-life.txt\n",
            "Wrote lyrics to: Lil-uzi-vert-bigger-than-life.txt\n",
            "Requesting: https://genius.com/Lil-uzi-vert-chrome-heart-tags-lyrics\n",
            "EternalAtake/Lil-uzi-vert-chrome-heart-tags.txt\n",
            "Wrote lyrics to: Lil-uzi-vert-chrome-heart-tags.txt\n",
            "Requesting: https://genius.com/Lil-uzi-vert-bust-me-lyrics\n",
            "EternalAtake/Lil-uzi-vert-bust-me.txt\n",
            "Wrote lyrics to: Lil-uzi-vert-bust-me.txt\n",
            "Requesting: https://genius.com/Lil-uzi-vert-prices-lyrics\n",
            "EternalAtake/Lil-uzi-vert-prices.txt\n",
            "Wrote lyrics to: Lil-uzi-vert-prices.txt\n",
            "Requesting: https://genius.com/Lil-uzi-vert-urgency-lyrics\n",
            "EternalAtake/Lil-uzi-vert-urgency.txt\n",
            "Wrote lyrics to: Lil-uzi-vert-urgency.txt\n",
            "Requesting: https://genius.com/Lil-uzi-vert-venetia-lyrics\n",
            "EternalAtake/Lil-uzi-vert-venetia.txt\n",
            "Wrote lyrics to: Lil-uzi-vert-venetia.txt\n",
            "Requesting: https://genius.com/Lil-uzi-vert-secure-the-bag-lyrics\n",
            "EternalAtake/Lil-uzi-vert-secure-the-bag.txt\n",
            "Wrote lyrics to: Lil-uzi-vert-secure-the-bag.txt\n",
            "Requesting: https://genius.com/Lil-uzi-vert-p2-lyrics\n",
            "EternalAtake/Lil-uzi-vert-p2.txt\n",
            "Wrote lyrics to: Lil-uzi-vert-p2.txt\n",
            "Requesting: https://genius.com/Lil-uzi-vert-futsal-shuffle-2020-lyrics\n",
            "EternalAtake/Lil-uzi-vert-futsal-shuffle-2020.txt\n",
            "Wrote lyrics to: Lil-uzi-vert-futsal-shuffle-2020.txt\n",
            "Requesting: https://genius.com/Lil-uzi-vert-that-way-lyrics\n",
            "EternalAtake/Lil-uzi-vert-that-way.txt\n",
            "Wrote lyrics to: Lil-uzi-vert-that-way.txt\n"
          ]
        }
      ]
    },
    {
      "cell_type": "markdown",
      "metadata": {
        "id": "Vg0bDs05HnYb"
      },
      "source": [
        "### 6. Shoot For The Stars Aim For The Moon by Pop Smoke"
      ]
    },
    {
      "cell_type": "code",
      "metadata": {
        "colab": {
          "base_uri": "https://localhost:8080/"
        },
        "id": "7Ozo4E4RHrNX",
        "outputId": "ac414000-5e9d-48bd-9c94-89b793a3a6a2"
      },
      "source": [
        "getalbumlyrics(\"Shoot for the Stars Aim for the Moon\", \"Pop Smoke\")"
      ],
      "execution_count": null,
      "outputs": [
        {
          "output_type": "stream",
          "name": "stdout",
          "text": [
            "Searching for \"Shoot for the Stars Aim for the Moon\" by Pop Smoke...\n",
            "Lyrics_ShootfortheStarsAimfortheMoon.json already exists. Overwrite?\n",
            "(y/n): y\n",
            "Wrote Lyrics_ShootfortheStarsAimfortheMoon.json.\n",
            "Matched! Artist: Pop Smoke and title: Bad Bitch from Tokyo (Intro)\n",
            "Matched! Artist: Pop Smoke and title: Aim for the Moon\n",
            "Matched! Artist: Pop Smoke and title: For the Night\n",
            "Matched! Artist: Pop Smoke and title: 44 BullDog\n",
            "Matched! Artist: Pop Smoke and title: Gangstas\n",
            "Matched! Artist: Pop Smoke and title: Yea Yea\n",
            "Matched! Artist: Pop Smoke and title: Creature\n",
            "Matched! Artist: Pop Smoke and title: Snitching\n",
            "Matched! Artist: Pop Smoke and title: Make It Rain\n",
            "Matched! Artist: Pop Smoke and title: The Woo\n",
            "Matched! Artist: Pop Smoke and title: West Coast Shit\n",
            "Matched! Artist: Pop Smoke and title: Enjoy Yourself\n",
            "Matched! Artist: Pop Smoke and title: Mood Swings\n",
            "Matched! Artist: Pop Smoke and title: Something Special\n",
            "Matched! Artist: Pop Smoke and title: What You Know Bout Love\n",
            "Matched! Artist: Pop Smoke and title: Diana\n",
            "Matched! Artist: Pop Smoke and title: Got It on Me\n",
            "Matched! Artist: Pop Smoke and title: Tunnel Vision (Outro)\n",
            "Matched! Artist: Pop Smoke and title: Dior\n",
            "Requesting: https://genius.com/Pop-smoke-bad-bitch-from-tokyo-intro-lyrics\n",
            "ShootfortheStarsAimfortheMoon/Pop-smoke-bad-bitch-from-tokyo-intro.txt\n",
            "Wrote lyrics to: Pop-smoke-bad-bitch-from-tokyo-intro.txt\n",
            "Requesting: https://genius.com/Pop-smoke-aim-for-the-moon-lyrics\n",
            "ShootfortheStarsAimfortheMoon/Pop-smoke-aim-for-the-moon.txt\n",
            "Wrote lyrics to: Pop-smoke-aim-for-the-moon.txt\n",
            "Requesting: https://genius.com/Pop-smoke-for-the-night-lyrics\n",
            "ShootfortheStarsAimfortheMoon/Pop-smoke-for-the-night.txt\n",
            "Wrote lyrics to: Pop-smoke-for-the-night.txt\n",
            "Requesting: https://genius.com/Pop-smoke-44-bulldog-lyrics\n",
            "ShootfortheStarsAimfortheMoon/Pop-smoke-44-bulldog.txt\n",
            "Wrote lyrics to: Pop-smoke-44-bulldog.txt\n",
            "Requesting: https://genius.com/Pop-smoke-gangstas-lyrics\n",
            "ShootfortheStarsAimfortheMoon/Pop-smoke-gangstas.txt\n",
            "Wrote lyrics to: Pop-smoke-gangstas.txt\n",
            "Requesting: https://genius.com/Pop-smoke-yea-yea-lyrics\n",
            "ShootfortheStarsAimfortheMoon/Pop-smoke-yea-yea.txt\n",
            "Wrote lyrics to: Pop-smoke-yea-yea.txt\n",
            "Requesting: https://genius.com/Pop-smoke-creature-lyrics\n",
            "ShootfortheStarsAimfortheMoon/Pop-smoke-creature.txt\n",
            "Wrote lyrics to: Pop-smoke-creature.txt\n",
            "Requesting: https://genius.com/Pop-smoke-snitching-lyrics\n",
            "ShootfortheStarsAimfortheMoon/Pop-smoke-snitching.txt\n",
            "Wrote lyrics to: Pop-smoke-snitching.txt\n",
            "Requesting: https://genius.com/Pop-smoke-make-it-rain-lyrics\n",
            "ShootfortheStarsAimfortheMoon/Pop-smoke-make-it-rain.txt\n",
            "Wrote lyrics to: Pop-smoke-make-it-rain.txt\n",
            "Requesting: https://genius.com/Pop-smoke-the-woo-lyrics\n",
            "ShootfortheStarsAimfortheMoon/Pop-smoke-the-woo.txt\n",
            "Wrote lyrics to: Pop-smoke-the-woo.txt\n",
            "Requesting: https://genius.com/Pop-smoke-west-coast-shit-lyrics\n",
            "ShootfortheStarsAimfortheMoon/Pop-smoke-west-coast-shit.txt\n",
            "Wrote lyrics to: Pop-smoke-west-coast-shit.txt\n",
            "Requesting: https://genius.com/Pop-smoke-enjoy-yourself-lyrics\n",
            "ShootfortheStarsAimfortheMoon/Pop-smoke-enjoy-yourself.txt\n",
            "Wrote lyrics to: Pop-smoke-enjoy-yourself.txt\n",
            "Requesting: https://genius.com/Pop-smoke-mood-swings-lyrics\n",
            "ShootfortheStarsAimfortheMoon/Pop-smoke-mood-swings.txt\n",
            "Wrote lyrics to: Pop-smoke-mood-swings.txt\n",
            "Requesting: https://genius.com/Pop-smoke-something-special-lyrics\n",
            "ShootfortheStarsAimfortheMoon/Pop-smoke-something-special.txt\n",
            "Wrote lyrics to: Pop-smoke-something-special.txt\n",
            "Requesting: https://genius.com/Pop-smoke-what-you-know-bout-love-lyrics\n",
            "ShootfortheStarsAimfortheMoon/Pop-smoke-what-you-know-bout-love.txt\n",
            "Wrote lyrics to: Pop-smoke-what-you-know-bout-love.txt\n",
            "Requesting: https://genius.com/Pop-smoke-diana-lyrics\n",
            "ShootfortheStarsAimfortheMoon/Pop-smoke-diana.txt\n",
            "Wrote lyrics to: Pop-smoke-diana.txt\n",
            "Requesting: https://genius.com/Pop-smoke-got-it-on-me-lyrics\n",
            "ShootfortheStarsAimfortheMoon/Pop-smoke-got-it-on-me.txt\n",
            "Wrote lyrics to: Pop-smoke-got-it-on-me.txt\n",
            "Requesting: https://genius.com/Pop-smoke-tunnel-vision-outro-lyrics\n",
            "ShootfortheStarsAimfortheMoon/Pop-smoke-tunnel-vision-outro.txt\n",
            "Wrote lyrics to: Pop-smoke-tunnel-vision-outro.txt\n",
            "Requesting: https://genius.com/Pop-smoke-dior-lyrics\n",
            "ShootfortheStarsAimfortheMoon/Pop-smoke-dior.txt\n",
            "Wrote lyrics to: Pop-smoke-dior.txt\n"
          ]
        }
      ]
    },
    {
      "cell_type": "markdown",
      "metadata": {
        "id": "p4vtOV_GH7jE"
      },
      "source": [
        "### 7. After Hours by The Weekend"
      ]
    },
    {
      "cell_type": "code",
      "metadata": {
        "colab": {
          "base_uri": "https://localhost:8080/"
        },
        "id": "iKFGlaLKH_26",
        "outputId": "0ddb37cd-834c-4534-e532-0e2195a5f0ab"
      },
      "source": [
        "getalbumlyrics(\"After Hours\", \"The Weekend\")"
      ],
      "execution_count": null,
      "outputs": [
        {
          "output_type": "stream",
          "name": "stdout",
          "text": [
            "Searching for \"After Hours\" by The Weekend...\n",
            "Lyrics_AfterHours.json already exists. Overwrite?\n",
            "(y/n): y\n",
            "Wrote Lyrics_AfterHours.json.\n",
            "Matched! Artist: The Weeknd and title: Alone Again\n",
            "Matched! Artist: The Weeknd and title: Too Late\n",
            "Matched! Artist: The Weeknd and title: Hardest to Love\n",
            "Matched! Artist: The Weeknd and title: Scared To Live\n",
            "Matched! Artist: The Weeknd and title: Snowchild\n",
            "Matched! Artist: The Weeknd and title: Escape From LA\n",
            "Matched! Artist: The Weeknd and title: Heartless\n",
            "Matched! Artist: The Weeknd and title: Faith\n",
            "Matched! Artist: The Weeknd and title: Blinding Lights\n",
            "Matched! Artist: The Weeknd and title: In Your Eyes\n",
            "Matched! Artist: The Weeknd and title: Save Your Tears\n",
            "Matched! Artist: The Weeknd and title: Repeat After Me (Interlude)\n",
            "Matched! Artist: The Weeknd and title: After Hours\n",
            "Matched! Artist: The Weeknd and title: Until I Bleed Out\n",
            "Requesting: https://genius.com/The-weeknd-alone-again-lyrics\n",
            "AfterHours/The-weeknd-alone-again.txt\n",
            "Wrote lyrics to: The-weeknd-alone-again.txt\n",
            "Requesting: https://genius.com/The-weeknd-too-late-lyrics\n",
            "AfterHours/The-weeknd-too-late.txt\n",
            "Wrote lyrics to: The-weeknd-too-late.txt\n",
            "Requesting: https://genius.com/The-weeknd-hardest-to-love-lyrics\n",
            "AfterHours/The-weeknd-hardest-to-love.txt\n",
            "Wrote lyrics to: The-weeknd-hardest-to-love.txt\n",
            "Requesting: https://genius.com/The-weeknd-scared-to-live-lyrics\n",
            "AfterHours/The-weeknd-scared-to-live.txt\n",
            "Wrote lyrics to: The-weeknd-scared-to-live.txt\n",
            "Requesting: https://genius.com/The-weeknd-snowchild-lyrics\n",
            "AfterHours/The-weeknd-snowchild.txt\n",
            "Wrote lyrics to: The-weeknd-snowchild.txt\n",
            "Requesting: https://genius.com/The-weeknd-escape-from-la-lyrics\n",
            "AfterHours/The-weeknd-escape-from-la.txt\n",
            "Wrote lyrics to: The-weeknd-escape-from-la.txt\n",
            "Requesting: https://genius.com/The-weeknd-heartless-lyrics\n",
            "AfterHours/The-weeknd-heartless.txt\n",
            "Wrote lyrics to: The-weeknd-heartless.txt\n",
            "Requesting: https://genius.com/The-weeknd-faith-lyrics\n",
            "AfterHours/The-weeknd-faith.txt\n",
            "Wrote lyrics to: The-weeknd-faith.txt\n",
            "Requesting: https://genius.com/The-weeknd-blinding-lights-lyrics\n",
            "AfterHours/The-weeknd-blinding-lights.txt\n",
            "Wrote lyrics to: The-weeknd-blinding-lights.txt\n",
            "Requesting: https://genius.com/The-weeknd-in-your-eyes-lyrics\n",
            "AfterHours/The-weeknd-in-your-eyes.txt\n",
            "Wrote lyrics to: The-weeknd-in-your-eyes.txt\n",
            "Requesting: https://genius.com/The-weeknd-save-your-tears-lyrics\n",
            "AfterHours/The-weeknd-save-your-tears.txt\n",
            "Wrote lyrics to: The-weeknd-save-your-tears.txt\n",
            "Requesting: https://genius.com/The-weeknd-repeat-after-me-interlude-lyrics\n",
            "AfterHours/The-weeknd-repeat-after-me-interlude.txt\n",
            "Wrote lyrics to: The-weeknd-repeat-after-me-interlude.txt\n",
            "Requesting: https://genius.com/The-weeknd-after-hours-lyrics\n",
            "AfterHours/The-weeknd-after-hours.txt\n",
            "Wrote lyrics to: The-weeknd-after-hours.txt\n",
            "Requesting: https://genius.com/The-weeknd-until-i-bleed-out-lyrics\n",
            "AfterHours/The-weeknd-until-i-bleed-out.txt\n",
            "Wrote lyrics to: The-weeknd-until-i-bleed-out.txt\n"
          ]
        }
      ]
    },
    {
      "cell_type": "markdown",
      "metadata": {
        "id": "33RCLOU0ID5C"
      },
      "source": [
        "### 8. Legends Never Die by Juice WRLD"
      ]
    },
    {
      "cell_type": "code",
      "metadata": {
        "colab": {
          "base_uri": "https://localhost:8080/"
        },
        "id": "SINpE7hUIHyD",
        "outputId": "b5f064e8-80ec-44e9-b01a-45f01bb283c3"
      },
      "source": [
        "getalbumlyrics(\"Legends Never Die\", \"Juic WRLD\")"
      ],
      "execution_count": null,
      "outputs": [
        {
          "output_type": "stream",
          "name": "stdout",
          "text": [
            "Searching for \"Legends Never Die\" by Juic WRLD...\n",
            "Wrote Lyrics_LegendsNeverDie.json.\n",
            "Matched! Artist: Juice WRLD and title: Anxiety (Intro)\n",
            "Matched! Artist: Juice WRLD and title: Conversations\n",
            "Matched! Artist: Juice WRLD and title: Titanic\n",
            "Matched! Artist: Juice WRLD and title: Bad Energy\n",
            "Matched! Artist: Juice WRLD and title: Righteous\n",
            "Matched! Artist: Juice WRLD and title: Blood On My Jeans\n",
            "Matched! Artist: Juice WRLD and title: Get Through It (Interlude)\n",
            "Matched! Artist: Juice WRLD and title: Life’s a Mess\n",
            "Matched! Artist: Juice WRLD and title: I Want It\n",
            "Matched! Artist: Juice WRLD and title: Fighting Demons\n",
            "Matched! Artist: Juice WRLD and title: Wishing Well\n",
            "Matched! Artist: Juice WRLD and title: Screw Juice\n",
            "Matched! Artist: Juice WRLD and title: Up Up and Away\n",
            "Matched! Artist: Juice WRLD and title: The Man, The Myth, The Legend (Interlude)\n",
            "Matched! Artist: Juice WRLD and title: Stay High\n",
            "Matched! Artist: Juice WRLD and title: Can’t Die\n",
            "Matched! Artist: Juice WRLD and title: Man of the Year\n",
            "Matched! Artist: Juice WRLD and title: Juice WRLD Speaks from Heaven (Outro)\n",
            "Requesting: https://genius.com/Juice-wrld-anxiety-intro-lyrics\n",
            "LegendsNeverDie/Juice-wrld-anxiety-intro.txt\n",
            "Wrote lyrics to: Juice-wrld-anxiety-intro.txt\n",
            "Requesting: https://genius.com/Juice-wrld-conversations-lyrics\n",
            "LegendsNeverDie/Juice-wrld-conversations.txt\n",
            "Wrote lyrics to: Juice-wrld-conversations.txt\n",
            "Requesting: https://genius.com/Juice-wrld-titanic-lyrics\n",
            "LegendsNeverDie/Juice-wrld-titanic.txt\n",
            "Wrote lyrics to: Juice-wrld-titanic.txt\n",
            "Requesting: https://genius.com/Juice-wrld-bad-energy-lyrics\n",
            "LegendsNeverDie/Juice-wrld-bad-energy.txt\n",
            "Wrote lyrics to: Juice-wrld-bad-energy.txt\n",
            "Requesting: https://genius.com/Juice-wrld-righteous-lyrics\n",
            "LegendsNeverDie/Juice-wrld-righteous.txt\n",
            "Wrote lyrics to: Juice-wrld-righteous.txt\n",
            "Requesting: https://genius.com/Juice-wrld-blood-on-my-jeans-lyrics\n",
            "LegendsNeverDie/Juice-wrld-blood-on-my-jeans.txt\n",
            "Wrote lyrics to: Juice-wrld-blood-on-my-jeans.txt\n",
            "Requesting: https://genius.com/Juice-wrld-get-through-it-interlude-lyrics\n",
            "LegendsNeverDie/Juice-wrld-get-through-it-interlude.txt\n",
            "Wrote lyrics to: Juice-wrld-get-through-it-interlude.txt\n",
            "Requesting: https://genius.com/Juice-wrld-lifes-a-mess-demo-2-lyrics\n",
            "LegendsNeverDie/Juice-wrld-lifes-a-mess-demo-2.txt\n",
            "Wrote lyrics to: Juice-wrld-lifes-a-mess-demo-2.txt\n",
            "Requesting: https://genius.com/Juice-wrld-i-want-it-lyrics\n",
            "LegendsNeverDie/Juice-wrld-i-want-it.txt\n",
            "Wrote lyrics to: Juice-wrld-i-want-it.txt\n",
            "Requesting: https://genius.com/Juice-wrld-fighting-demons-lyrics\n",
            "LegendsNeverDie/Juice-wrld-fighting-demons.txt\n",
            "Wrote lyrics to: Juice-wrld-fighting-demons.txt\n",
            "Requesting: https://genius.com/Juice-wrld-wishing-well-lyrics\n",
            "LegendsNeverDie/Juice-wrld-wishing-well.txt\n",
            "Wrote lyrics to: Juice-wrld-wishing-well.txt\n",
            "Requesting: https://genius.com/Juice-wrld-screw-juice-lyrics\n",
            "LegendsNeverDie/Juice-wrld-screw-juice.txt\n",
            "Wrote lyrics to: Juice-wrld-screw-juice.txt\n",
            "Requesting: https://genius.com/Juice-wrld-up-up-and-away-lyrics\n",
            "LegendsNeverDie/Juice-wrld-up-up-and-away.txt\n",
            "Wrote lyrics to: Juice-wrld-up-up-and-away.txt\n",
            "Requesting: https://genius.com/Juice-wrld-the-man-the-myth-the-legend-interlude-lyrics\n",
            "LegendsNeverDie/Juice-wrld-the-man-the-myth-the-legend-interlude.txt\n",
            "Wrote lyrics to: Juice-wrld-the-man-the-myth-the-legend-interlude.txt\n",
            "Requesting: https://genius.com/Juice-wrld-stay-high-lyrics\n",
            "LegendsNeverDie/Juice-wrld-stay-high.txt\n",
            "Wrote lyrics to: Juice-wrld-stay-high.txt\n",
            "Requesting: https://genius.com/Juice-wrld-cant-die-lyrics\n",
            "LegendsNeverDie/Juice-wrld-cant-die.txt\n",
            "Wrote lyrics to: Juice-wrld-cant-die.txt\n",
            "Requesting: https://genius.com/Juice-wrld-man-of-the-year-lyrics\n",
            "LegendsNeverDie/Juice-wrld-man-of-the-year.txt\n",
            "Wrote lyrics to: Juice-wrld-man-of-the-year.txt\n",
            "Requesting: https://genius.com/Juice-wrld-juice-wrld-speaks-from-heaven-outro-lyrics\n",
            "LegendsNeverDie/Juice-wrld-juice-wrld-speaks-from-heaven-outro.txt\n",
            "Wrote lyrics to: Juice-wrld-juice-wrld-speaks-from-heaven-outro.txt\n"
          ]
        }
      ]
    },
    {
      "cell_type": "markdown",
      "metadata": {
        "id": "OXCSE_CJIPjg"
      },
      "source": [
        "### 9. What You See Is What You Get by Luke Combs"
      ]
    },
    {
      "cell_type": "code",
      "metadata": {
        "colab": {
          "base_uri": "https://localhost:8080/"
        },
        "id": "QacALjLIIMvz",
        "outputId": "89fdcc06-7341-4e7f-99d3-5fe06f47e3b9"
      },
      "source": [
        "getalbumlyrics(\"What You See Is What You Get\", \"Luke Combs\")"
      ],
      "execution_count": null,
      "outputs": [
        {
          "output_type": "stream",
          "name": "stdout",
          "text": [
            "Searching for \"What You See Is What You Get\" by Luke Combs...\n",
            "Wrote Lyrics_WhatYouSeeIsWhatYouGet.json.\n",
            "Matched! Artist: Luke Combs and title: Beer Never Broke My Heart\n",
            "Matched! Artist: Luke Combs and title: Refrigerator Door\n",
            "Matched! Artist: Luke Combs and title: Even Though I’m Leaving\n",
            "Matched! Artist: Luke Combs and title: Lovin’ on You\n",
            "Matched! Artist: Luke Combs and title: Moon Over Mexico\n",
            "Matched! Artist: Luke Combs and title: 1, 2 Many\n",
            "Matched! Artist: Luke Combs and title: Blue Collar Boys\n",
            "Matched! Artist: Luke Combs and title: New Every Day\n",
            "Matched! Artist: Luke Combs and title: Every Little Bit Helps\n",
            "Matched! Artist: Luke Combs and title: Dear Today\n",
            "Matched! Artist: Luke Combs and title: What You See Is What You Get\n",
            "Matched! Artist: Luke Combs and title: Does To Me\n",
            "Matched! Artist: Luke Combs and title: Angels Workin’ Overtime\n",
            "Matched! Artist: Luke Combs and title: All Over Again\n",
            "Matched! Artist: Luke Combs and title: Nothing Like You\n",
            "Matched! Artist: Luke Combs and title: Better Together\n",
            "Matched! Artist: Luke Combs and title: 1,2 Many\n",
            "Requesting: https://genius.com/Luke-combs-beer-never-broke-my-heart-lyrics\n",
            "WhatYouSeeIsWhatYouGet/Luke-combs-beer-never-broke-my-heart.txt\n",
            "Wrote lyrics to: Luke-combs-beer-never-broke-my-heart.txt\n",
            "Requesting: https://genius.com/Luke-combs-refrigerator-door-lyrics\n",
            "WhatYouSeeIsWhatYouGet/Luke-combs-refrigerator-door.txt\n",
            "Wrote lyrics to: Luke-combs-refrigerator-door.txt\n",
            "Requesting: https://genius.com/Luke-combs-even-though-im-leaving-lyrics\n",
            "WhatYouSeeIsWhatYouGet/Luke-combs-even-though-im-leaving.txt\n",
            "Wrote lyrics to: Luke-combs-even-though-im-leaving.txt\n",
            "Requesting: https://genius.com/Luke-combs-lovin-on-you-lyrics\n",
            "WhatYouSeeIsWhatYouGet/Luke-combs-lovin-on-you.txt\n",
            "Wrote lyrics to: Luke-combs-lovin-on-you.txt\n",
            "Requesting: https://genius.com/Luke-combs-moon-over-mexico-lyrics\n",
            "WhatYouSeeIsWhatYouGet/Luke-combs-moon-over-mexico.txt\n",
            "Wrote lyrics to: Luke-combs-moon-over-mexico.txt\n",
            "Requesting: https://genius.com/Luke-combs-1-2-many-lyrics\n",
            "WhatYouSeeIsWhatYouGet/Luke-combs-1-2-many.txt\n",
            "Wrote lyrics to: Luke-combs-1-2-many.txt\n",
            "Requesting: https://genius.com/Luke-combs-blue-collar-boys-lyrics\n",
            "WhatYouSeeIsWhatYouGet/Luke-combs-blue-collar-boys.txt\n",
            "Wrote lyrics to: Luke-combs-blue-collar-boys.txt\n",
            "Requesting: https://genius.com/Luke-combs-new-every-day-lyrics\n",
            "WhatYouSeeIsWhatYouGet/Luke-combs-new-every-day.txt\n",
            "Wrote lyrics to: Luke-combs-new-every-day.txt\n",
            "Requesting: https://genius.com/Luke-combs-every-little-bit-helps-lyrics\n",
            "WhatYouSeeIsWhatYouGet/Luke-combs-every-little-bit-helps.txt\n",
            "Wrote lyrics to: Luke-combs-every-little-bit-helps.txt\n",
            "Requesting: https://genius.com/Luke-combs-dear-today-lyrics\n",
            "WhatYouSeeIsWhatYouGet/Luke-combs-dear-today.txt\n",
            "Wrote lyrics to: Luke-combs-dear-today.txt\n",
            "Requesting: https://genius.com/Luke-combs-what-you-see-is-what-you-get-lyrics\n",
            "WhatYouSeeIsWhatYouGet/Luke-combs-what-you-see-is-what-you-get.txt\n",
            "Wrote lyrics to: Luke-combs-what-you-see-is-what-you-get.txt\n",
            "Requesting: https://genius.com/Luke-combs-does-to-me-lyrics\n",
            "WhatYouSeeIsWhatYouGet/Luke-combs-does-to-me.txt\n",
            "Wrote lyrics to: Luke-combs-does-to-me.txt\n",
            "Requesting: https://genius.com/Luke-combs-angels-workin-overtime-lyrics\n",
            "WhatYouSeeIsWhatYouGet/Luke-combs-angels-workin-overtime.txt\n",
            "Wrote lyrics to: Luke-combs-angels-workin-overtime.txt\n",
            "Requesting: https://genius.com/Luke-combs-all-over-again-lyrics\n",
            "WhatYouSeeIsWhatYouGet/Luke-combs-all-over-again.txt\n",
            "Wrote lyrics to: Luke-combs-all-over-again.txt\n",
            "Requesting: https://genius.com/Luke-combs-nothing-like-you-lyrics\n",
            "WhatYouSeeIsWhatYouGet/Luke-combs-nothing-like-you.txt\n",
            "Wrote lyrics to: Luke-combs-nothing-like-you.txt\n",
            "Requesting: https://genius.com/Luke-combs-better-together-lyrics\n",
            "WhatYouSeeIsWhatYouGet/Luke-combs-better-together.txt\n",
            "Wrote lyrics to: Luke-combs-better-together.txt\n",
            "Requesting: https://genius.com/Luke-combs-1-2-many-lyrics\n",
            "WhatYouSeeIsWhatYouGet/Luke-combs-1-2-many.txt\n",
            "Wrote lyrics to: Luke-combs-1-2-many.txt\n"
          ]
        }
      ]
    },
    {
      "cell_type": "markdown",
      "metadata": {
        "id": "AYFiD_sgIoQC"
      },
      "source": [
        "### 10. YHLQMDLG by Bad Bunny"
      ]
    },
    {
      "cell_type": "code",
      "metadata": {
        "colab": {
          "base_uri": "https://localhost:8080/"
        },
        "id": "6_thqxXHIr0P",
        "outputId": "751ecd0e-a5da-4160-b67b-867da4dfb792"
      },
      "source": [
        "getalbumlyrics(\"YHLQMDLG\", \"Bad Bunn\")"
      ],
      "execution_count": null,
      "outputs": [
        {
          "output_type": "stream",
          "name": "stdout",
          "text": [
            "Searching for \"YHLQMDLG\" by Bad Bunn...\n",
            "Wrote Lyrics_YHLQMDLG.json.\n",
            "Matched! Artist: Bad Bunny and title: Si Veo a Tu Mamá\n",
            "Matched! Artist: Bad Bunny and title: La Difícil\n",
            "Matched! Artist: Bad Bunny and title: Pero Ya No\n",
            "Matched! Artist: Bad Bunny and title: Yo Perreo Sola\n",
            "Matched! Artist: Bad Bunny and title: Soliá\n",
            "Matched! Artist: Bad Bunny and title: La Zona\n",
            "Matched! Artist: Bad Bunny and title: Vete\n",
            "Matched! Artist: Bad Bunny and title: A Tu Merced\n",
            "Matched! Artist: Bad Bunny and title: 25/8\n",
            "Matched! Artist: Bad Bunny and title: Está Cabrón Ser Yo\n",
            "Requesting: https://genius.com/Bad-bunny-si-veo-a-tu-mama-lyrics\n",
            "YHLQMDLG/Bad-bunny-si-veo-a-tu-mama.txt\n",
            "Wrote lyrics to: Bad-bunny-si-veo-a-tu-mama.txt\n",
            "Requesting: https://genius.com/Bad-bunny-la-dificil-lyrics\n",
            "YHLQMDLG/Bad-bunny-la-dificil.txt\n",
            "Wrote lyrics to: Bad-bunny-la-dificil.txt\n",
            "Requesting: https://genius.com/Bad-bunny-pero-ya-no-lyrics\n",
            "YHLQMDLG/Bad-bunny-pero-ya-no.txt\n",
            "Wrote lyrics to: Bad-bunny-pero-ya-no.txt\n",
            "Requesting: https://genius.com/Bad-bunny-yo-perreo-sola-lyrics\n",
            "YHLQMDLG/Bad-bunny-yo-perreo-sola.txt\n",
            "Wrote lyrics to: Bad-bunny-yo-perreo-sola.txt\n",
            "Requesting: https://genius.com/Bad-bunny-solia-lyrics\n",
            "YHLQMDLG/Bad-bunny-solia.txt\n",
            "Wrote lyrics to: Bad-bunny-solia.txt\n",
            "Requesting: https://genius.com/Bad-bunny-la-zona-lyrics\n",
            "YHLQMDLG/Bad-bunny-la-zona.txt\n",
            "Wrote lyrics to: Bad-bunny-la-zona.txt\n",
            "Requesting: https://genius.com/Bad-bunny-vete-lyrics\n",
            "YHLQMDLG/Bad-bunny-vete.txt\n",
            "Wrote lyrics to: Bad-bunny-vete.txt\n",
            "Requesting: https://genius.com/Bad-bunny-a-tu-merced-lyrics\n",
            "YHLQMDLG/Bad-bunny-a-tu-merced.txt\n",
            "Wrote lyrics to: Bad-bunny-a-tu-merced.txt\n",
            "Requesting: https://genius.com/Bad-bunny-25-8-lyrics\n",
            "YHLQMDLG/Bad-bunny-25-8.txt\n",
            "Wrote lyrics to: Bad-bunny-25-8.txt\n",
            "Requesting: https://genius.com/Bad-bunny-en-casita-lyrics\n",
            "YHLQMDLG/Bad-bunny-en-casita.txt\n",
            "Wrote lyrics to: Bad-bunny-en-casita.txt\n"
          ]
        }
      ]
    },
    {
      "cell_type": "markdown",
      "metadata": {
        "id": "bgtyN_xcDVPA"
      },
      "source": [
        "# Stage 2: Sentiment Analysis"
      ]
    },
    {
      "cell_type": "markdown",
      "metadata": {
        "id": "xptekab_kidY"
      },
      "source": [
        "Since we are intersted in learning about the differences in the sentiments in the female artists' lyrics and male artists' lyrics, we will conduct sentinent analysis for each album. To ensure the accuracy and viability of our sentiment analysis result, we will first run a calibration test on the unit of the text being analyzed for Talor Swift's song *August* in the *Folklore* album. Specifically, we will compute the average of compound sentiment scores on a verse level and the compound sentiment score on a song level to see whether we want to analyze the entire song as a single unit or analyze each line."
      ]
    },
    {
      "cell_type": "markdown",
      "metadata": {
        "id": "tQVB6KgDPQI8"
      },
      "source": [
        "## **Determining Appropriate Unit of Analysis** "
      ]
    },
    {
      "cell_type": "markdown",
      "metadata": {
        "id": "SX1TjIKiQPYy"
      },
      "source": [
        "Before we start our sentiment analysis, we need to determine the appropriate unit to pass into the function. We have two options: \n",
        "1. Determine sentiment scores on a verse level and aggregate them at the end using the mean to create one compound score for the song, then aggregate those to create the album score.\n",
        "2. Compute sentiment scores on the entire song and use that as the basis for creating the album level aggregation. \n",
        "\n",
        "We will test out which method seems more appropriate and accurate using both one song and one album."
      ]
    },
    {
      "cell_type": "code",
      "metadata": {
        "colab": {
          "base_uri": "https://localhost:8080/"
        },
        "id": "2QFQKSm3ENbD",
        "outputId": "bce3d1f2-96e1-4e31-f718-a29d59624a87"
      },
      "source": [
        "# import nltk (nlp library )\n",
        "import nltk\n",
        "nltk.download('vader_lexicon')"
      ],
      "execution_count": null,
      "outputs": [
        {
          "output_type": "stream",
          "name": "stdout",
          "text": [
            "[nltk_data] Downloading package vader_lexicon to /root/nltk_data...\n"
          ]
        },
        {
          "output_type": "execute_result",
          "data": {
            "text/plain": [
              "True"
            ]
          },
          "metadata": {},
          "execution_count": 20
        }
      ]
    },
    {
      "cell_type": "code",
      "metadata": {
        "id": "ZzvA6637E8dc",
        "colab": {
          "base_uri": "https://localhost:8080/"
        },
        "outputId": "82b8dd2a-6b98-4fd4-e90b-6442e0824bfb"
      },
      "source": [
        "# import VADER sentiment analyzer \n",
        "from nltk.sentiment.vader import SentimentIntensityAnalyzer\n",
        "sid = SentimentIntensityAnalyzer() # create sentiment analyzer object"
      ],
      "execution_count": null,
      "outputs": [
        {
          "output_type": "stream",
          "name": "stderr",
          "text": [
            "/usr/local/lib/python3.7/dist-packages/nltk/twitter/__init__.py:20: UserWarning: The twython library has not been installed. Some functionality from the twitter package will not be available.\n",
            "  warnings.warn(\"The twython library has not been installed. \"\n"
          ]
        }
      ]
    },
    {
      "cell_type": "markdown",
      "metadata": {
        "id": "rJz5VQgw_vSn"
      },
      "source": [
        "### Comparison of One Song"
      ]
    },
    {
      "cell_type": "markdown",
      "metadata": {
        "id": "HkEaV9GsTjr2"
      },
      "source": [
        "**Here is the aggregated verse level compound score for August by Taylor Swift.**"
      ]
    },
    {
      "cell_type": "code",
      "metadata": {
        "id": "aJ3Kpwyi6cdY"
      },
      "source": [
        "# Read song artist from folklore\n",
        "#rose_path = \"/content/drive/MyDrive/QTM 340 Final Project/Female Artists/folklore/Taylor-swift-august.txt\"\n",
        "niki_path = \"/content/drive/MyDrive/junior year/QTM 340/Final Project/QTM 340 Final Project/Female Artists (1)/folklore/Taylor-swift-august.txt\"\n",
        "with open(niki_path, \"r\") as file:\n",
        "    lyrics = file.read() \n",
        "print(lyrics)"
      ],
      "execution_count": null,
      "outputs": []
    },
    {
      "cell_type": "code",
      "metadata": {
        "id": "0wvLDlfdnoPH"
      },
      "source": [
        "# Split the verses in the song and use VADER to compute sentiment scores for each verse\n",
        "lines = lyrics.split('\\n\\n') \n",
        "# Filter out empty strings in the list\n",
        "lines = list(filter(None, lines1))"
      ],
      "execution_count": null,
      "outputs": []
    },
    {
      "cell_type": "code",
      "metadata": {
        "id": "cGUy2cG47PyT"
      },
      "source": [
        "# Create a list to store all the sentiment scores for each verse\n",
        "scores_list = []\n",
        "for line in lines:\n",
        "    scores = sid.polarity_scores(line)\n",
        "    scores_list.append((scores['compound']))\n",
        "    print(\"\\n\" + \"Comp. score: \" + str(scores['compound']) + \"\\n\\n\" + line)"
      ],
      "execution_count": null,
      "outputs": []
    },
    {
      "cell_type": "code",
      "metadata": {
        "colab": {
          "base_uri": "https://localhost:8080/"
        },
        "id": "uwHqvi7DR5qa",
        "outputId": "8f846f3e-eccf-46a8-95f1-254cad3cafca"
      },
      "source": [
        "scores_list # view list of verse level scores"
      ],
      "execution_count": null,
      "outputs": [
        {
          "output_type": "execute_result",
          "data": {
            "text/plain": [
              "[0.0, 0.0516, 0.0, 0.8889, 0.0516, 0.9817]"
            ]
          },
          "metadata": {},
          "execution_count": 136
        }
      ]
    },
    {
      "cell_type": "code",
      "metadata": {
        "colab": {
          "base_uri": "https://localhost:8080/"
        },
        "id": "Jt2rVRTj9qKO",
        "outputId": "02d2f547-867d-443d-a5bf-47a89946c047"
      },
      "source": [
        "print(\"The average of verse-level sentiment scores is: \" + str(sum(scores_list)/len(scores_list)))"
      ],
      "execution_count": null,
      "outputs": [
        {
          "output_type": "stream",
          "name": "stdout",
          "text": [
            "The average of verse-level sentiment scores is: 0.3289666666666667\n"
          ]
        }
      ]
    },
    {
      "cell_type": "code",
      "metadata": {
        "colab": {
          "base_uri": "https://localhost:8080/"
        },
        "id": "t8jDCgnpUKMR",
        "outputId": "23e02bed-f099-4e6d-9fbd-6b094f08894a"
      },
      "source": [
        "print (\"The average of verse-level sentiment scores removing outliers is: \" + str((0.0516 + 0.0516 + 0.8889 + 0.9817 ) / 4))"
      ],
      "execution_count": null,
      "outputs": [
        {
          "output_type": "stream",
          "name": "stdout",
          "text": [
            "The average of verse-level sentiment scores removing outliers is: 0.49345\n"
          ]
        }
      ]
    },
    {
      "cell_type": "markdown",
      "metadata": {
        "id": "DqlyV-uz_1Z9"
      },
      "source": [
        "**Now, here is the song-level compound score for the same song.**:"
      ]
    },
    {
      "cell_type": "code",
      "metadata": {
        "colab": {
          "base_uri": "https://localhost:8080/"
        },
        "id": "cASMdtD4_bOi",
        "outputId": "59700b2f-c64c-43e4-cb41-6839b3434509"
      },
      "source": [
        "song_score = sid.polarity_scores(lyrics)\n",
        "for key in song_score:\n",
        "    print(key + \": \" + str(song_score[key]))"
      ],
      "execution_count": null,
      "outputs": [
        {
          "output_type": "stream",
          "name": "stdout",
          "text": [
            "neg: 0.027\n",
            "neu: 0.848\n",
            "pos: 0.126\n",
            "compound: 0.9905\n"
          ]
        }
      ]
    },
    {
      "cell_type": "markdown",
      "metadata": {
        "id": "LCG-7LXvU3vA"
      },
      "source": [
        "As we can see, these results are drastically different. Lets see if we see these same disparities when iterating over the entire album."
      ]
    },
    {
      "cell_type": "markdown",
      "metadata": {
        "id": "bJVBsdDZ9hnJ"
      },
      "source": [
        "### Comparison in an Entire Album"
      ]
    },
    {
      "cell_type": "markdown",
      "metadata": {
        "id": "yyhhS_-59IYN"
      },
      "source": [
        "**Here is the aggregated verse level compound score for Folklore (the album) by Taylor Swift.**"
      ]
    },
    {
      "cell_type": "code",
      "metadata": {
        "id": "N1ovMhlq4KZV"
      },
      "source": [
        "import glob\n",
        "import os"
      ],
      "execution_count": null,
      "outputs": []
    },
    {
      "cell_type": "code",
      "metadata": {
        "id": "2vmIvzrF8_60"
      },
      "source": [
        "niki_folklore = \"/content/drive/MyDrive/junior year/QTM 340/Final Project/QTM 340 Final Project/Female Artists (1)/folklore\"\n",
        "path = niki_folklore\n",
        "os.chdir(path) # change path \n",
        "\n",
        "\n",
        "# need to add a list and then get the average for each song and add that to the dictionary \n",
        "folklore_dict = {}\n",
        "for file in os.listdir():\n",
        "    if file.endswith(\".txt\"):\n",
        "        file_path = f\"{path}/{file}\"\n",
        "        with open(file_path, 'r') as f:\n",
        "          verse_scores = []\n",
        "          lyrics = f.read()\n",
        "          song = file.replace(\"Taylor-swift-\",\"\")\n",
        "          song = song.replace(\".txt\", \"\")\n",
        "          lines = lyrics.split('\\n\\n') \n",
        "          lines = list(filter(None, lines))\n",
        "          for line in lines:\n",
        "            scores = sid.polarity_scores(line)\n",
        "            verse_scores.append((scores['compound']))\n",
        "            folklore_dict[song] = sum(verse_scores)/len(verse_scores)\n",
        "            \n",
        "\n",
        "folklore = pd.DataFrame.from_dict(folklore_dict, orient='index')\n"
      ],
      "execution_count": null,
      "outputs": []
    },
    {
      "cell_type": "markdown",
      "metadata": {
        "id": "OsvcrJ-U9s6B"
      },
      "source": [
        "**Now, here is the song-level compound score for the same album.**"
      ]
    },
    {
      "cell_type": "code",
      "metadata": {
        "colab": {
          "base_uri": "https://localhost:8080/"
        },
        "id": "eV92cAe85PSg",
        "outputId": "2b338144-57e6-43ec-fb40-2a3c798b42b3"
      },
      "source": [
        "path = niki_folklore\n",
        "score_folklore_list = []\n",
        "for filename in glob.glob(os.path.join(path, '*.txt')):\n",
        "   with open(os.path.join(os.getcwd(), filename), 'r') as f: \n",
        "     lyrics = f.read()\n",
        "     score_folklore = sid.polarity_scores(lyrics)\n",
        "     score_folklore_list.append(score_folklore['compound'])\n",
        "\n",
        "print(score_folklore_list)"
      ],
      "execution_count": null,
      "outputs": [
        {
          "output_type": "stream",
          "name": "stdout",
          "text": [
            "[-0.5022, -0.9862, 0.8566, 0.9825, -0.9825, 0.9572, 0.9808, -0.9012, 0.947, -0.9813, 0.9867, 0.9905, 0.9081, 0.9908, -0.8987, 0.2981]\n"
          ]
        }
      ]
    },
    {
      "cell_type": "markdown",
      "metadata": {
        "id": "YglxutapzGxI"
      },
      "source": [
        "**Let's compare these two in a dataframe.**"
      ]
    },
    {
      "cell_type": "code",
      "metadata": {
        "colab": {
          "base_uri": "https://localhost:8080/",
          "height": 545
        },
        "id": "Hf5w5nLOzOL4",
        "outputId": "4d7c8b8d-c24b-406a-875b-048062f46540"
      },
      "source": [
        "folklore['Song-Level'] = score_folklore2_list\n",
        "folklore = folklore.rename(columns={0:'Verse-Level'})\n",
        "folklore['Absolute Difference'] =  np.abs(folklore['Song-Level']) - np.abs(folklore['Verse-Level'])\n",
        "folklore['Absolute Difference'] = np.abs(folklore['Absolute Difference'])\n",
        "folklore"
      ],
      "execution_count": null,
      "outputs": [
        {
          "output_type": "execute_result",
          "data": {
            "text/html": [
              "<div>\n",
              "<style scoped>\n",
              "    .dataframe tbody tr th:only-of-type {\n",
              "        vertical-align: middle;\n",
              "    }\n",
              "\n",
              "    .dataframe tbody tr th {\n",
              "        vertical-align: top;\n",
              "    }\n",
              "\n",
              "    .dataframe thead th {\n",
              "        text-align: right;\n",
              "    }\n",
              "</style>\n",
              "<table border=\"1\" class=\"dataframe\">\n",
              "  <thead>\n",
              "    <tr style=\"text-align: right;\">\n",
              "      <th></th>\n",
              "      <th>Verse-Level</th>\n",
              "      <th>Song-Level</th>\n",
              "      <th>Absolute Difference</th>\n",
              "    </tr>\n",
              "  </thead>\n",
              "  <tbody>\n",
              "    <tr>\n",
              "      <th>peace</th>\n",
              "      <td>-0.590100</td>\n",
              "      <td>-0.5022</td>\n",
              "      <td>0.087900</td>\n",
              "    </tr>\n",
              "    <tr>\n",
              "      <th>mad-woman</th>\n",
              "      <td>-0.341029</td>\n",
              "      <td>-0.9862</td>\n",
              "      <td>0.645171</td>\n",
              "    </tr>\n",
              "    <tr>\n",
              "      <th>mirrorball</th>\n",
              "      <td>0.415800</td>\n",
              "      <td>0.8566</td>\n",
              "      <td>0.440800</td>\n",
              "    </tr>\n",
              "    <tr>\n",
              "      <th>the-last-great-american-dynasty</th>\n",
              "      <td>0.464533</td>\n",
              "      <td>0.9825</td>\n",
              "      <td>0.517967</td>\n",
              "    </tr>\n",
              "    <tr>\n",
              "      <th>hoax</th>\n",
              "      <td>-0.515240</td>\n",
              "      <td>-0.9825</td>\n",
              "      <td>0.467260</td>\n",
              "    </tr>\n",
              "    <tr>\n",
              "      <th>betty</th>\n",
              "      <td>0.183978</td>\n",
              "      <td>0.9572</td>\n",
              "      <td>0.773222</td>\n",
              "    </tr>\n",
              "    <tr>\n",
              "      <th>the-1</th>\n",
              "      <td>0.480243</td>\n",
              "      <td>0.9808</td>\n",
              "      <td>0.500557</td>\n",
              "    </tr>\n",
              "    <tr>\n",
              "      <th>this-is-me-trying</th>\n",
              "      <td>-0.102214</td>\n",
              "      <td>-0.9012</td>\n",
              "      <td>0.798986</td>\n",
              "    </tr>\n",
              "    <tr>\n",
              "      <th>invisible-string</th>\n",
              "      <td>0.326950</td>\n",
              "      <td>0.9470</td>\n",
              "      <td>0.620050</td>\n",
              "    </tr>\n",
              "    <tr>\n",
              "      <th>my-tears-ricochet</th>\n",
              "      <td>-0.329760</td>\n",
              "      <td>-0.9813</td>\n",
              "      <td>0.651540</td>\n",
              "    </tr>\n",
              "    <tr>\n",
              "      <th>cardigan</th>\n",
              "      <td>0.537412</td>\n",
              "      <td>0.9867</td>\n",
              "      <td>0.449288</td>\n",
              "    </tr>\n",
              "    <tr>\n",
              "      <th>august</th>\n",
              "      <td>0.328967</td>\n",
              "      <td>0.9905</td>\n",
              "      <td>0.661533</td>\n",
              "    </tr>\n",
              "    <tr>\n",
              "      <th>epiphany</th>\n",
              "      <td>0.348740</td>\n",
              "      <td>0.9081</td>\n",
              "      <td>0.559360</td>\n",
              "    </tr>\n",
              "    <tr>\n",
              "      <th>seven</th>\n",
              "      <td>0.582725</td>\n",
              "      <td>0.9908</td>\n",
              "      <td>0.408075</td>\n",
              "    </tr>\n",
              "    <tr>\n",
              "      <th>illicit-affairs</th>\n",
              "      <td>-0.235620</td>\n",
              "      <td>-0.8987</td>\n",
              "      <td>0.663080</td>\n",
              "    </tr>\n",
              "    <tr>\n",
              "      <th>exile</th>\n",
              "      <td>0.027250</td>\n",
              "      <td>0.2981</td>\n",
              "      <td>0.270850</td>\n",
              "    </tr>\n",
              "  </tbody>\n",
              "</table>\n",
              "</div>"
            ],
            "text/plain": [
              "                                 Verse-Level  Song-Level  Absolute Difference\n",
              "peace                              -0.590100     -0.5022             0.087900\n",
              "mad-woman                          -0.341029     -0.9862             0.645171\n",
              "mirrorball                          0.415800      0.8566             0.440800\n",
              "the-last-great-american-dynasty     0.464533      0.9825             0.517967\n",
              "hoax                               -0.515240     -0.9825             0.467260\n",
              "betty                               0.183978      0.9572             0.773222\n",
              "the-1                               0.480243      0.9808             0.500557\n",
              "this-is-me-trying                  -0.102214     -0.9012             0.798986\n",
              "invisible-string                    0.326950      0.9470             0.620050\n",
              "my-tears-ricochet                  -0.329760     -0.9813             0.651540\n",
              "cardigan                            0.537412      0.9867             0.449288\n",
              "august                              0.328967      0.9905             0.661533\n",
              "epiphany                            0.348740      0.9081             0.559360\n",
              "seven                               0.582725      0.9908             0.408075\n",
              "illicit-affairs                    -0.235620     -0.8987             0.663080\n",
              "exile                               0.027250      0.2981             0.270850"
            ]
          },
          "metadata": {},
          "execution_count": 183
        }
      ]
    },
    {
      "cell_type": "markdown",
      "metadata": {
        "id": "UhVoO9s_z0jn"
      },
      "source": [
        "We can see that there are differences between the two approaches. Passing in the entire song skews to an extreme (either positive or negative), while using the verse as the unit of analysis skews more negative. We can now use a different approach to clarify what might be the best approach."
      ]
    },
    {
      "cell_type": "markdown",
      "metadata": {
        "id": "L2drxC_tmL_1"
      },
      "source": [
        "### Human Labeling Classification "
      ]
    },
    {
      "cell_type": "markdown",
      "metadata": {
        "id": "NuKrzfehntJJ"
      },
      "source": [
        "One way we will be determining what the appropriate unit of analysis is for the songs is by labeling songs we are familiar with on a 5 point categorical scale. We will associate each categorical label with a continuous interval on our compound sentiment score that ranges from -1.0 to 1.0. We will then train those songs both on a verse level and on a song level, and see what approach better classifies the model appropriately. \n",
        "\n",
        "\n",
        "\n",
        "---\n",
        "\n",
        "\n",
        "\n",
        "\n",
        "The scale that we will be using is:\n",
        "\n",
        "\n",
        "Strongly negative -> Moderately negative -> **Neutral** -> Moderately positive -> Strongly Positive\n",
        "\n",
        "Quantitatively, the intervals will look like: \n",
        "\n",
        "$$[1,-0.6) -> [-0.6,-0.2) -> [-0.2,0.2) -> [0.2,0.6) -> [0.6,1.0]$$\n",
        "\n",
        "We will be using 5 songs from the Male albums, and 5 songs from the Female albums. We will have two songs that fit each category.\n"
      ]
    },
    {
      "cell_type": "markdown",
      "metadata": {
        "id": "PmAe31JSmQP-"
      },
      "source": [
        "**Male Artist Songs**\n",
        "\n",
        "\n",
        "\n",
        "\n"
      ]
    },
    {
      "cell_type": "markdown",
      "metadata": {
        "id": "mcsf3JyjrU7h"
      },
      "source": [
        "| Song                 | Artist       | Human Label         |   |   |\n",
        "|----------------------|--------------|---------------------|---|---|\n",
        "| Hollywood's Bleeding | Post Malone  | Strongly Negative   |   |   |\n",
        "| Can't Die            | Juice WRLD   | Moderately Negative |   |   |\n",
        "| For the Night        | Pop Smoke    | Neutral             |   |   |\n",
        "| High Fashion         | Roddy Ricch  | Moderately Positive |   |   |\n",
        "| Watermelon Sugar     | Harry Styles | Moderately Negative |   |   |"
      ]
    },
    {
      "cell_type": "markdown",
      "metadata": {
        "id": "4EwBW_nBs2kl"
      },
      "source": [
        "**Female Artist Songs**"
      ]
    },
    {
      "cell_type": "markdown",
      "metadata": {
        "id": "UOztuOCMs6y5"
      },
      "source": [
        "| Song                               | Artist        | Human Label         |\n",
        "|------------------------------------|---------------|---------------------|\n",
        "| When the Party's Over              | Billie Eilish | Strongly Negative   |\n",
        "| Playing Games                      | Summer Walker | Moderately Negative |\n",
        "| Juicy                              | Doja Cat      | Neutral             |\n",
        "| Happiness Over Everything (H.O.E.) | Jhene Aiko    | Moderately Positive |\n",
        "| Soulmate                           | Lizzo         | Strongly Positive   |"
      ]
    },
    {
      "cell_type": "markdown",
      "metadata": {
        "id": "ssqrh-GmQ_fy"
      },
      "source": [
        "First, we will be defining a function that will provide both a song level and verse level output for each song we pass in."
      ]
    },
    {
      "cell_type": "code",
      "metadata": {
        "id": "W-G5zQAm1CNl"
      },
      "source": [
        "def get_sentiment(gender, album_title, artist, song):\n",
        "  # clean up parameters \n",
        "  album_title = re.sub(\"[^a-zA-Z0-9]\", \"\", album_title)\n",
        "  gender = gender.title()\n",
        "  song = song.lower() \n",
        "  with open(f'/content/drive/MyDrive/junior year/QTM 340/Final Project/QTM 340 Final Project/{gender} Artists/{album_title}/{artist}-{song}.txt') as a:\n",
        "    lyrics = a.read()\n",
        "    # Song Level Analysis \n",
        "    scores = sid.polarity_scores(lyrics)\n",
        "    song_total = scores['compound']\n",
        "\n",
        "    # Verse Level Analysis \n",
        "    verse_scores = []\n",
        "    lines = lyrics.split('\\n\\n') \n",
        "    lines = list(filter(None, lines))\n",
        "    for line in lines:\n",
        "      scores = sid.polarity_scores(line)\n",
        "      verse_scores.append((scores['compound']))\n",
        "      verse_total = sum(verse_scores)/len(verse_scores)\n",
        "  \n",
        "  return song_total, verse_total\n"
      ],
      "execution_count": null,
      "outputs": []
    },
    {
      "cell_type": "markdown",
      "metadata": {
        "id": "b6bIrIwhRMex"
      },
      "source": [
        "Next, we define a few different lists that provide information about the song name, artist name and input class so that we can add it to a dataframe at the end. "
      ]
    },
    {
      "cell_type": "code",
      "metadata": {
        "id": "zcmLA9c-6Cs7"
      },
      "source": [
        "# \n",
        "verse = [] # Add Verse Scores\n",
        "song = [] # Add Song level Scores \n",
        "song_names = [\"Hollywood's Bleeding\", \"Can't Die\", \"For the Night\", \"High Fashion\", \"Watermelon Sugar\", \"When the Party's Over\", \"Playing Games\", \"Juicy\", \"Happiness Over Everything (H.O.E)\", \"Soulmate\"]\n",
        "hcl_class = ['Strongly Negative', 'Moderately Negative', 'Neutral', 'Moderately Positive', 'Strongly Positive', 'Strongly Negative', 'Moderately Negative', 'Neutral', 'Moderately Positive', 'Extremely Positive']\n",
        "song_artists = [\"Post Malone\", \"Juice WRLD\", \"Pop Smoke\", \"Roddy Ricch\", \"Harry Styles\", \"Billie Eilish\", \"Summer Walker\", \"Doja Cat\", \"Jhene Aiko\", \"Lizzo\"]"
      ],
      "execution_count": null,
      "outputs": []
    },
    {
      "cell_type": "markdown",
      "metadata": {
        "id": "AlKVB4YlRWJi"
      },
      "source": [
        "Now we call this function 10 different times and append the song and verse level outputs to their respective lists in the order of the songs in the list above."
      ]
    },
    {
      "cell_type": "code",
      "metadata": {
        "id": "nfDaGJzoHwzc"
      },
      "source": [
        "hollywood = get_sentiment('Male', 'HollywoodsBleeding', 'Post-malone', 'hollywoods-bleeding')\n",
        "song.append(hollywood[0]) \n",
        "verse.append(hollywood[1])\n",
        "\n",
        "#/content/drive/MyDrive/QTM 340 Final Project/Male Artists/LegendsNeverDie/Juice-wrld-cant-die.txt\n",
        "Cantdie_sentiment = get_sentiment('Male','LegendsNeverDie', 'Juice-wrld', 'cant-die')\n",
        "song.append(Cantdie_sentiment[0]) \n",
        "verse.append(Cantdie_sentiment[1])\n",
        "\n",
        "#/content/drive/MyDrive/QTM 340 Final Project/Male Artists/ShootfortheStarsAimfortheMoon/Pop-smoke-for-the-night.txt\n",
        "forthenight_sentiment = get_sentiment('Male','ShootfortheStarsAimfortheMoon', 'Pop-smoke', 'for-the-night')\n",
        "song.append(forthenight_sentiment[0]) \n",
        "verse.append(forthenight_sentiment[1])\n",
        "\n",
        "#/content/drive/MyDrive/QTM 340 Final Project/Male Artists/PleaseExcuseMeforBeingAntisocial/Roddy-ricch-high-fashion.txt\n",
        "highfashion_sentiment = get_sentiment('Male','PleaseExcuseMeforBeingAntisocial', 'Roddy-ricch', 'high-fashion')\n",
        "song.append(highfashion_sentiment[0]) \n",
        "verse.append(highfashion_sentiment[1])\n",
        "\n",
        "# /content/drive/MyDrive/QTM 340 Final Project/Male Artists/FineLine/Harry-styles-watermelon-sugar.txt\n",
        "watermelonsugar_sentiment = get_sentiment('Male','FineLine', 'Harry-styles', 'watermelon-sugar')\n",
        "song.append(watermelonsugar_sentiment [0]) \n",
        "verse.append(watermelonsugar_sentiment [1])\n",
        "\n",
        "#/content/drive/MyDrive/QTM 340 Final Project/Female Artists/WHENWEALLFALLASLEEPWHEREDOWEGO/Billie-eilish-when-the-partys-over.txt\n",
        "thepartysover_sentiment = get_sentiment('Female','WHENWEALLFALLASLEEPWHEREDOWEGO', 'Billie-eilish', 'when-the-partys-over')\n",
        "song.append(thepartysover_sentiment[0]) \n",
        "verse.append(thepartysover_sentiment[1])\n",
        "\n",
        "#/content/drive/MyDrive/QTM 340 Final Project/Female Artists/OverIt/Summer-walker-playing-games.txt\n",
        "playinggames_sentiment = get_sentiment('Female','OverIt', 'Summer-walker', 'playing-games')\n",
        "song.append(playinggames_sentiment[0]) \n",
        "verse.append(playinggames_sentiment[1])\n",
        "\n",
        "#/content/drive/MyDrive/QTM 340 Final Project/Female Artists/HotPink/Doja-cat-juicy.txt\n",
        "juicy_sentiment = get_sentiment('Female','HotPink', 'Doja-cat', 'juicy')\n",
        "song.append(juicy_sentiment [0]) \n",
        "verse.append(juicy_sentiment [1])\n",
        "\n",
        "#/content/drive/MyDrive/QTM 340 Final Project/Female Artists/Chilombo/Jhene-aiko-happiness-over-everything-hoe.txt\n",
        "happinessovereverythinghoe_sentiment = get_sentiment('Female','Chilombo', 'Jhene-aiko', 'happiness-over-everything-hoe')\n",
        "song.append(happinessovereverythinghoe_sentiment[0]) \n",
        "verse.append(happinessovereverythinghoe_sentiment[1])\n",
        "\n",
        "#/content/drive/MyDrive/QTM 340 Final Project/Female Artists/CuzILoveYou/Lizzo-soulmate.txt\n",
        "soulmate_sentiment = get_sentiment('Female','CuzILoveYou', 'Lizzo', 'soulmate')\n",
        "song.append(soulmate_sentiment[0]) \n",
        "verse.append(soulmate_sentiment[1])"
      ],
      "execution_count": null,
      "outputs": []
    },
    {
      "cell_type": "markdown",
      "metadata": {
        "id": "vYR7tRM2RhUF"
      },
      "source": [
        "To better visualize the results, we will be adding the songs (plus their relevant info) and their outputs to a dataframe. "
      ]
    },
    {
      "cell_type": "code",
      "metadata": {
        "colab": {
          "base_uri": "https://localhost:8080/",
          "height": 444
        },
        "id": "gk1bV0kYIMWJ",
        "outputId": "9733b5e6-9b57-4d00-9707-0dfe33edf36e"
      },
      "source": [
        "hl_data = pd.DataFrame(data=song_names)\n",
        "hl_data['Song-Artists'] = song_artists \n",
        "hl_data['HL Class'] = hcl_class \n",
        "hl_data['Song-Level-Scores'] = song \n",
        "hl_data['Verse-Level-Scores'] = verse \n",
        "hl_data['Absolute-Difference'] = np.abs(hl_data['Song-Level-Scores']) - np.abs(hl_data['Verse-Level-Scores'])\n",
        "hl_data = hl_data.rename(columns={0:'Song-Names'}) \n",
        "accurate_y_n = ['N', 'N', 'N', 'Y', 'Y', 'N', 'N', 'N', 'N', 'Y']\n",
        "hl_data['Accurate-Y-N'] = accurate_y_n\n",
        "hl_data\n"
      ],
      "execution_count": null,
      "outputs": [
        {
          "output_type": "execute_result",
          "data": {
            "text/html": [
              "<div>\n",
              "<style scoped>\n",
              "    .dataframe tbody tr th:only-of-type {\n",
              "        vertical-align: middle;\n",
              "    }\n",
              "\n",
              "    .dataframe tbody tr th {\n",
              "        vertical-align: top;\n",
              "    }\n",
              "\n",
              "    .dataframe thead th {\n",
              "        text-align: right;\n",
              "    }\n",
              "</style>\n",
              "<table border=\"1\" class=\"dataframe\">\n",
              "  <thead>\n",
              "    <tr style=\"text-align: right;\">\n",
              "      <th></th>\n",
              "      <th>Song-Names</th>\n",
              "      <th>Song-Artists</th>\n",
              "      <th>HL Class</th>\n",
              "      <th>Song-Level-Scores</th>\n",
              "      <th>Verse-Level-Scores</th>\n",
              "      <th>Absolute-Difference</th>\n",
              "      <th>Accurate-Y-N</th>\n",
              "    </tr>\n",
              "  </thead>\n",
              "  <tbody>\n",
              "    <tr>\n",
              "      <th>0</th>\n",
              "      <td>Hollywood's Bleeding</td>\n",
              "      <td>Post Malone</td>\n",
              "      <td>Strongly Negative</td>\n",
              "      <td>0.7503</td>\n",
              "      <td>-0.244050</td>\n",
              "      <td>0.506250</td>\n",
              "      <td>N</td>\n",
              "    </tr>\n",
              "    <tr>\n",
              "      <th>1</th>\n",
              "      <td>Can't Die</td>\n",
              "      <td>Juice WRLD</td>\n",
              "      <td>Moderately Negative</td>\n",
              "      <td>0.9898</td>\n",
              "      <td>0.417250</td>\n",
              "      <td>0.572550</td>\n",
              "      <td>N</td>\n",
              "    </tr>\n",
              "    <tr>\n",
              "      <th>2</th>\n",
              "      <td>For the Night</td>\n",
              "      <td>Pop Smoke</td>\n",
              "      <td>Neutral</td>\n",
              "      <td>-0.9979</td>\n",
              "      <td>-0.914933</td>\n",
              "      <td>0.082967</td>\n",
              "      <td>N</td>\n",
              "    </tr>\n",
              "    <tr>\n",
              "      <th>3</th>\n",
              "      <td>High Fashion</td>\n",
              "      <td>Roddy Ricch</td>\n",
              "      <td>Moderately Positive</td>\n",
              "      <td>0.9482</td>\n",
              "      <td>0.109150</td>\n",
              "      <td>0.839050</td>\n",
              "      <td>Y</td>\n",
              "    </tr>\n",
              "    <tr>\n",
              "      <th>4</th>\n",
              "      <td>Watermelon Sugar</td>\n",
              "      <td>Harry Styles</td>\n",
              "      <td>Strongly Positive</td>\n",
              "      <td>0.9502</td>\n",
              "      <td>0.203763</td>\n",
              "      <td>0.746438</td>\n",
              "      <td>Y</td>\n",
              "    </tr>\n",
              "    <tr>\n",
              "      <th>5</th>\n",
              "      <td>When the Party's Over</td>\n",
              "      <td>Billie Eilish</td>\n",
              "      <td>Strongly Negative</td>\n",
              "      <td>0.9964</td>\n",
              "      <td>0.452560</td>\n",
              "      <td>0.543840</td>\n",
              "      <td>N</td>\n",
              "    </tr>\n",
              "    <tr>\n",
              "      <th>6</th>\n",
              "      <td>Playing Games</td>\n",
              "      <td>Summer Walker</td>\n",
              "      <td>Moderately Negative</td>\n",
              "      <td>0.9180</td>\n",
              "      <td>0.436200</td>\n",
              "      <td>0.481800</td>\n",
              "      <td>N</td>\n",
              "    </tr>\n",
              "    <tr>\n",
              "      <th>7</th>\n",
              "      <td>Juicy</td>\n",
              "      <td>Doja Cat</td>\n",
              "      <td>Neutral</td>\n",
              "      <td>0.9977</td>\n",
              "      <td>0.887420</td>\n",
              "      <td>0.110280</td>\n",
              "      <td>N</td>\n",
              "    </tr>\n",
              "    <tr>\n",
              "      <th>8</th>\n",
              "      <td>Happiness Over Everything (H.O.E)</td>\n",
              "      <td>Jhene Aiko</td>\n",
              "      <td>Moderately Positive</td>\n",
              "      <td>-0.9879</td>\n",
              "      <td>-0.801300</td>\n",
              "      <td>0.186600</td>\n",
              "      <td>N</td>\n",
              "    </tr>\n",
              "    <tr>\n",
              "      <th>9</th>\n",
              "      <td>Soulmate</td>\n",
              "      <td>Lizzo</td>\n",
              "      <td>Extremely Positive</td>\n",
              "      <td>0.9999</td>\n",
              "      <td>0.793844</td>\n",
              "      <td>0.206056</td>\n",
              "      <td>Y</td>\n",
              "    </tr>\n",
              "  </tbody>\n",
              "</table>\n",
              "</div>"
            ],
            "text/plain": [
              "                          Song-Names  ... Accurate-Y-N\n",
              "0               Hollywood's Bleeding  ...            N\n",
              "1                          Can't Die  ...            N\n",
              "2                      For the Night  ...            N\n",
              "3                       High Fashion  ...            Y\n",
              "4                   Watermelon Sugar  ...            Y\n",
              "5              When the Party's Over  ...            N\n",
              "6                      Playing Games  ...            N\n",
              "7                              Juicy  ...            N\n",
              "8  Happiness Over Everything (H.O.E)  ...            N\n",
              "9                           Soulmate  ...            Y\n",
              "\n",
              "[10 rows x 7 columns]"
            ]
          },
          "metadata": {},
          "execution_count": 363
        }
      ]
    },
    {
      "cell_type": "code",
      "metadata": {
        "colab": {
          "base_uri": "https://localhost:8080/"
        },
        "id": "ST5WzKzaJE-1",
        "outputId": "749488e8-5f96-4ad5-9dfd-820e038230f4"
      },
      "source": [
        "# Average Absolute Difference Across All Observations\n",
        "np.mean(hl_data['Absolute-Difference'])"
      ],
      "execution_count": null,
      "outputs": [
        {
          "output_type": "execute_result",
          "data": {
            "text/plain": [
              "0.42758297222222225"
            ]
          },
          "metadata": {},
          "execution_count": 354
        }
      ]
    },
    {
      "cell_type": "markdown",
      "metadata": {
        "id": "Mv_3XHS0RoaR"
      },
      "source": [
        "After conducting both of these analyses, we can clearly see that the song-level scores are completely inaccurate and differs drastically compared to an aggregate of the verse-level scores. \n",
        "\n",
        "However, the verse level scores did not also fit our human labeling. This may be an indicator that this sentiment model is not producing relevant outputs for our data, either due to our use of the model and its paramters our the kind of data we are using. Another possibility, that is also likely impacting these results, is that our perception of the sentiment of songs is largely based on the beat, track, and voice of the artists. This textual processor has no access to any of that information. Thus, for example, perhaps the actual *lyrics* of some of these songs are positive, but we classified them as negative based on our experience listening to the music.\n",
        "\n",
        "Because of this, we will still continue with using the sentiment model on all of our albums to analyze gender based disparities moving forward, but we will also bear these discrepancies in mind."
      ]
    },
    {
      "cell_type": "markdown",
      "metadata": {
        "id": "mvsms4_0SygJ"
      },
      "source": [
        "## **Conducting the Sentiment Analysis**"
      ]
    },
    {
      "cell_type": "markdown",
      "metadata": {
        "id": "JlunCUsFxJjh"
      },
      "source": [
        "Because our human labeling did not correlate very well to either sentiment analysis score, we have decided to go ahead and use both scores in our analysis, averaging it out over albums and then over gender. We are taking into account that the the song level score tends to skew extremely positive, so we will likely end up using the verse level score as the results we report on. \n",
        "\n",
        "\n",
        "We understand that this approach leaves a lot of room for error - and that's okay. We will discuss this in the \"next steps\" portion of our paper! \n",
        "\n",
        "\n",
        "For now, to begin with, we will defining a few helper functions. "
      ]
    },
    {
      "cell_type": "markdown",
      "metadata": {
        "id": "4IyHVDZxyifr"
      },
      "source": [
        "The first is a function similar as before, which will extract the verse-level sentiment from a given album."
      ]
    },
    {
      "cell_type": "code",
      "metadata": {
        "id": "bh13Cma7zK2Q"
      },
      "source": [
        "def get_verse_sentiment(gender, album_title, artist):\n",
        "  # clean up parameters \n",
        "  album_title = re.sub(\"[^a-zA-Z0-9]\", \"\", album_title) # standardize with genius API output \n",
        "  gender = gender.title() \n",
        "  artist = str(artist)\n",
        "  # path = f'/content/drive/MyDrive/QTM 340 Final Project/{gender} Artists/{album_title}'\n",
        "  # Niki's path\n",
        "  path = f'/content/drive/MyDrive/junior year/QTM 340/Final Project/QTM 340 Final Project/{gender} Artists/{album_title}'\n",
        "  os.chdir(path) \n",
        "  dict1 = {}\n",
        "  for file in os.listdir(): # iterate through album directory \n",
        "    if file.endswith(\".txt\"):\n",
        "      file_path = f\"{path}/{file}\"\n",
        "      with open(file_path, 'r') as f:\n",
        "        verse_scores = []\n",
        "        lyrics = f.read()\n",
        "        # song title \n",
        "        song = file.replace(artist,\"\")\n",
        "        song = song.replace(\".txt\", \"\")\n",
        "        song = song.replace(\"-\", \"\")\n",
        "        lines = lyrics.split('\\n\\n') \n",
        "        lines = list(filter(None, lines))\n",
        "        # score\n",
        "        for line in lines:\n",
        "          scores = sid.polarity_scores(line)\n",
        "          verse_scores.append((scores['compound']))\n",
        "          dict1[song] = sum(verse_scores)/len(verse_scores)  \n",
        "  album_title = pd.DataFrame.from_dict(dict1, orient='index')\n",
        "  album_title = album_title.rename(columns={0:'Verse-Level'})\n",
        "  return album_title\n",
        "  #return album_title['Verse-Level'].mean()"
      ],
      "execution_count": null,
      "outputs": []
    },
    {
      "cell_type": "markdown",
      "metadata": {
        "id": "-P41CfjT2lDs"
      },
      "source": [
        "Next, we will create a separate function that will calculate the song-level sentiment from a given album."
      ]
    },
    {
      "cell_type": "code",
      "metadata": {
        "id": "Y2w-6Q9Wzdrf"
      },
      "source": [
        "def get_song_sentiment(gender, album_title, artist):\n",
        "  # path = f'/content/drive/MyDrive/QTM 340 Final Project/{gender} Artists/{album_title}'\n",
        "  # Niki's path\n",
        "  path = f'/content/drive/MyDrive/junior year/QTM 340/Final Project/QTM 340 Final Project/{gender} Artists/{album_title}'\n",
        "  score_df = {}\n",
        "  for file in os.listdir():\n",
        "    if file.endswith(\".txt\"):\n",
        "      file_path = f\"{path}/{file}\"\n",
        "      with open(file_path, 'r') as f: \n",
        "        lyrics = f.read()\n",
        "        # title\n",
        "        song = file.replace(artist,\"\")\n",
        "        song = song.replace(\".txt\", \"\")\n",
        "        song = song.replace(\"-\", \"\")\n",
        "        # song score\n",
        "        score = sid.polarity_scores(lyrics)\n",
        "        score_df[song] = score['compound']\n",
        "  score_df = pd.DataFrame.from_dict(score_df, orient='index')\n",
        "  score_df = score_df.rename(columns={0:'Song-Level'})\n",
        "  return score_df\n",
        "  #return score_df['Song-Level'].mean()"
      ],
      "execution_count": null,
      "outputs": []
    },
    {
      "cell_type": "markdown",
      "metadata": {
        "id": "gPiCjYmp3brO"
      },
      "source": [
        "Here is a simple function to cast the output of each album into a dataframe"
      ]
    },
    {
      "cell_type": "code",
      "metadata": {
        "id": "CRVpoYxa3iCx"
      },
      "source": [
        "def create_df(gender, album_title, artist):\n",
        "  verse = get_verse_sentiment(gender,album_title, artist)\n",
        "  song = get_song_sentiment(gender, album_title, artist)\n",
        "  temp = pd.concat([verse, song], axis = 1)\n",
        "  verse_mean = temp['Verse-Level'].mean()\n",
        "  song_mean = temp['Song-Level'].mean() \n",
        "  data = {'Verse-Level-Average': [verse_mean],\n",
        "          'Song-Level-Average': [song_mean]}\n",
        "  df = pd.DataFrame(data)\n",
        "  df['Album'] = album_title\n",
        "  cols = df.columns.tolist()\n",
        "  cols = cols[-1:] + cols[:-1]\n",
        "  df = df[cols]\n",
        "  return df"
      ],
      "execution_count": null,
      "outputs": []
    },
    {
      "cell_type": "markdown",
      "metadata": {
        "id": "3JPxo2ZbHO0v"
      },
      "source": [
        "**Here is what this looks like on our data.**\n",
        "Ladies first :)\n"
      ]
    },
    {
      "cell_type": "code",
      "metadata": {
        "id": "Yz1Y4Iwz5-NH"
      },
      "source": [
        "f1 = create_df('Female', 'folklore', 'Taylor-swift')\n",
        "f2 = create_df('Female', 'WHENWEALLFALLASLEEPWHEREDOWEGO', \"Billie-eilish\")\n",
        "f3 = create_df('Female', 'Lover', \"Taylor-swift\")\n",
        "f4 = create_df('Female', 'OverIt', 'Summer-walker')\n",
        "f5 = create_df('Female', 'Manic', 'Halsey')\n",
        "f6 = create_df('Female', 'Chilombo', 'Jhene-aiko')\n",
        "f7 = create_df('Female', 'HotPink', 'Doja-cat')\n",
        "f8 = create_df('Female', 'CuzILoveYou', 'Lizzo')\n",
        "f9 = create_df('Female', 'dontsmileatme', 'Billie-eilish')\n",
        "f10 =create_df('Female','Chromatica', 'Lady-gaga')"
      ],
      "execution_count": null,
      "outputs": []
    },
    {
      "cell_type": "code",
      "metadata": {
        "colab": {
          "base_uri": "https://localhost:8080/",
          "height": 363
        },
        "id": "-kuEPPEZIE1v",
        "outputId": "cf894a53-95ee-4ecd-b79e-fe6302707493"
      },
      "source": [
        "female_scores = pd.concat([f1,f2,f3,f4,f5,f6,f7,f8,f9,f10])\n",
        "female_scores"
      ],
      "execution_count": null,
      "outputs": [
        {
          "output_type": "execute_result",
          "data": {
            "text/html": [
              "<div>\n",
              "<style scoped>\n",
              "    .dataframe tbody tr th:only-of-type {\n",
              "        vertical-align: middle;\n",
              "    }\n",
              "\n",
              "    .dataframe tbody tr th {\n",
              "        vertical-align: top;\n",
              "    }\n",
              "\n",
              "    .dataframe thead th {\n",
              "        text-align: right;\n",
              "    }\n",
              "</style>\n",
              "<table border=\"1\" class=\"dataframe\">\n",
              "  <thead>\n",
              "    <tr style=\"text-align: right;\">\n",
              "      <th></th>\n",
              "      <th>Album</th>\n",
              "      <th>Verse-Level-Average</th>\n",
              "      <th>Song-Level-Average</th>\n",
              "    </tr>\n",
              "  </thead>\n",
              "  <tbody>\n",
              "    <tr>\n",
              "      <th>0</th>\n",
              "      <td>folklore</td>\n",
              "      <td>0.154577</td>\n",
              "      <td>0.224569</td>\n",
              "    </tr>\n",
              "    <tr>\n",
              "      <th>0</th>\n",
              "      <td>WHENWEALLFALLASLEEPWHEREDOWEGO</td>\n",
              "      <td>0.172262</td>\n",
              "      <td>0.215015</td>\n",
              "    </tr>\n",
              "    <tr>\n",
              "      <th>0</th>\n",
              "      <td>Lover</td>\n",
              "      <td>0.126749</td>\n",
              "      <td>0.201129</td>\n",
              "    </tr>\n",
              "    <tr>\n",
              "      <th>0</th>\n",
              "      <td>OverIt</td>\n",
              "      <td>0.353774</td>\n",
              "      <td>0.341845</td>\n",
              "    </tr>\n",
              "    <tr>\n",
              "      <th>0</th>\n",
              "      <td>Manic</td>\n",
              "      <td>0.169664</td>\n",
              "      <td>0.099992</td>\n",
              "    </tr>\n",
              "    <tr>\n",
              "      <th>0</th>\n",
              "      <td>Chilombo</td>\n",
              "      <td>0.236165</td>\n",
              "      <td>0.187667</td>\n",
              "    </tr>\n",
              "    <tr>\n",
              "      <th>0</th>\n",
              "      <td>HotPink</td>\n",
              "      <td>0.349611</td>\n",
              "      <td>0.620627</td>\n",
              "    </tr>\n",
              "    <tr>\n",
              "      <th>0</th>\n",
              "      <td>CuzILoveYou</td>\n",
              "      <td>0.326391</td>\n",
              "      <td>0.367350</td>\n",
              "    </tr>\n",
              "    <tr>\n",
              "      <th>0</th>\n",
              "      <td>dontsmileatme</td>\n",
              "      <td>-0.141817</td>\n",
              "      <td>-0.435900</td>\n",
              "    </tr>\n",
              "    <tr>\n",
              "      <th>0</th>\n",
              "      <td>Chromatica</td>\n",
              "      <td>0.089364</td>\n",
              "      <td>0.167908</td>\n",
              "    </tr>\n",
              "  </tbody>\n",
              "</table>\n",
              "</div>"
            ],
            "text/plain": [
              "                            Album  Verse-Level-Average  Song-Level-Average\n",
              "0                        folklore             0.154577            0.224569\n",
              "0  WHENWEALLFALLASLEEPWHEREDOWEGO             0.172262            0.215015\n",
              "0                           Lover             0.126749            0.201129\n",
              "0                          OverIt             0.353774            0.341845\n",
              "0                           Manic             0.169664            0.099992\n",
              "0                        Chilombo             0.236165            0.187667\n",
              "0                         HotPink             0.349611            0.620627\n",
              "0                     CuzILoveYou             0.326391            0.367350\n",
              "0                   dontsmileatme            -0.141817           -0.435900\n",
              "0                      Chromatica             0.089364            0.167908"
            ]
          },
          "metadata": {},
          "execution_count": 16
        }
      ]
    },
    {
      "cell_type": "markdown",
      "metadata": {
        "id": "0SCzVW1wIj49"
      },
      "source": [
        "Next, we can do the men."
      ]
    },
    {
      "cell_type": "code",
      "metadata": {
        "id": "jvS6xiQcIk4A"
      },
      "source": [
        "m1 = create_df('Male', 'HollywoodsBleeding', 'Post-malone')\n",
        "m2 = create_df('Male', 'MyTurn', 'Lil-baby')\n",
        "m3 = create_df('Male', 'PleaseExcuseMeforBeingAntisocial','Roddy-rich')\n",
        "m4 = create_df('Male', 'FineLine', 'Harry-styles')\n",
        "m5 = create_df('Male', 'EternalAtake', 'Lil-uzi-vert')\n",
        "m6 = create_df('Male', 'ShootfortheStarsAimfortheMoon','Pop-smoke')\n",
        "m7 = create_df('Male', 'AfterHours', 'The-weekend')\n",
        "m8 = create_df('Male', 'LegendsNeverDie', 'Juice-wrld')\n",
        "m9 = create_df('Male', 'WhatYouSeeIsWhatYouGet', 'Luke-combs')\n",
        "m10 = create_df('Male', 'YHLQMDLG', 'Bad-bunny')"
      ],
      "execution_count": null,
      "outputs": []
    },
    {
      "cell_type": "code",
      "metadata": {
        "colab": {
          "base_uri": "https://localhost:8080/",
          "height": 359
        },
        "id": "SdZ3xtVMI2Si",
        "outputId": "fdb9248a-51ba-4f66-eead-a5459f3de0b6"
      },
      "source": [
        "male_scores = pd.concat([m1,m2,m3,m4,m5,m6,m7,m8,m9,m10])\n",
        "male_scores"
      ],
      "execution_count": null,
      "outputs": [
        {
          "output_type": "execute_result",
          "data": {
            "text/html": [
              "<div>\n",
              "<style scoped>\n",
              "    .dataframe tbody tr th:only-of-type {\n",
              "        vertical-align: middle;\n",
              "    }\n",
              "\n",
              "    .dataframe tbody tr th {\n",
              "        vertical-align: top;\n",
              "    }\n",
              "\n",
              "    .dataframe thead th {\n",
              "        text-align: right;\n",
              "    }\n",
              "</style>\n",
              "<table border=\"1\" class=\"dataframe\">\n",
              "  <thead>\n",
              "    <tr style=\"text-align: right;\">\n",
              "      <th></th>\n",
              "      <th>Album</th>\n",
              "      <th>Verse-Level-Average</th>\n",
              "      <th>Song-Level-Average</th>\n",
              "    </tr>\n",
              "  </thead>\n",
              "  <tbody>\n",
              "    <tr>\n",
              "      <th>0</th>\n",
              "      <td>HollywoodsBleeding</td>\n",
              "      <td>-0.123975</td>\n",
              "      <td>-0.089721</td>\n",
              "    </tr>\n",
              "    <tr>\n",
              "      <th>0</th>\n",
              "      <td>MyTurn</td>\n",
              "      <td>-0.361158</td>\n",
              "      <td>-0.499138</td>\n",
              "    </tr>\n",
              "    <tr>\n",
              "      <th>0</th>\n",
              "      <td>PleaseExcuseMeforBeingAntisocial</td>\n",
              "      <td>-0.169493</td>\n",
              "      <td>-0.177093</td>\n",
              "    </tr>\n",
              "    <tr>\n",
              "      <th>0</th>\n",
              "      <td>FineLine</td>\n",
              "      <td>0.134158</td>\n",
              "      <td>0.328936</td>\n",
              "    </tr>\n",
              "    <tr>\n",
              "      <th>0</th>\n",
              "      <td>EternalAtake</td>\n",
              "      <td>0.036813</td>\n",
              "      <td>-0.391412</td>\n",
              "    </tr>\n",
              "    <tr>\n",
              "      <th>0</th>\n",
              "      <td>ShootfortheStarsAimfortheMoon</td>\n",
              "      <td>0.146611</td>\n",
              "      <td>0.237026</td>\n",
              "    </tr>\n",
              "    <tr>\n",
              "      <th>0</th>\n",
              "      <td>AfterHours</td>\n",
              "      <td>-0.084088</td>\n",
              "      <td>-0.218371</td>\n",
              "    </tr>\n",
              "    <tr>\n",
              "      <th>0</th>\n",
              "      <td>LegendsNeverDie</td>\n",
              "      <td>0.030895</td>\n",
              "      <td>-0.123156</td>\n",
              "    </tr>\n",
              "    <tr>\n",
              "      <th>0</th>\n",
              "      <td>WhatYouSeeIsWhatYouGet</td>\n",
              "      <td>0.345420</td>\n",
              "      <td>0.596062</td>\n",
              "    </tr>\n",
              "    <tr>\n",
              "      <th>0</th>\n",
              "      <td>YHLQMDLG</td>\n",
              "      <td>-0.443686</td>\n",
              "      <td>-0.946820</td>\n",
              "    </tr>\n",
              "  </tbody>\n",
              "</table>\n",
              "</div>"
            ],
            "text/plain": [
              "                              Album  Verse-Level-Average  Song-Level-Average\n",
              "0                HollywoodsBleeding            -0.123975           -0.089721\n",
              "0                            MyTurn            -0.361158           -0.499138\n",
              "0  PleaseExcuseMeforBeingAntisocial            -0.169493           -0.177093\n",
              "0                          FineLine             0.134158            0.328936\n",
              "0                      EternalAtake             0.036813           -0.391412\n",
              "0     ShootfortheStarsAimfortheMoon             0.146611            0.237026\n",
              "0                        AfterHours            -0.084088           -0.218371\n",
              "0                   LegendsNeverDie             0.030895           -0.123156\n",
              "0            WhatYouSeeIsWhatYouGet             0.345420            0.596062\n",
              "0                          YHLQMDLG            -0.443686           -0.946820"
            ]
          },
          "metadata": {},
          "execution_count": 19
        }
      ]
    },
    {
      "cell_type": "markdown",
      "metadata": {
        "id": "b4hALnqcJlrV"
      },
      "source": [
        "We can see that there are obvious differences between the average album-level sentiment scores of the women and men, just by looking at them. Let's take a look at the averages across gender and see what we find. "
      ]
    },
    {
      "cell_type": "code",
      "metadata": {
        "colab": {
          "base_uri": "https://localhost:8080/"
        },
        "id": "6EFRWM0HJxjw",
        "outputId": "e060e401-4887-4a4b-e721-e595ae5915eb"
      },
      "source": [
        "print('The average verse-level sentiment score of female artists is ' + str(round(female_scores['Verse-Level-Average'].mean(),2)))"
      ],
      "execution_count": null,
      "outputs": [
        {
          "output_type": "stream",
          "name": "stdout",
          "text": [
            "The average verse-level sentiment score of female artists is 0.15\n"
          ]
        }
      ]
    },
    {
      "cell_type": "code",
      "metadata": {
        "colab": {
          "base_uri": "https://localhost:8080/"
        },
        "id": "r3RVLl3dJ_Gb",
        "outputId": "fa0d8c70-5207-4517-afd0-f0d357b5d7bb"
      },
      "source": [
        "print('The average song-level sentiment score of female artists is ' + str(round(female_scores['Song-Level-Average'].mean(),2)))"
      ],
      "execution_count": null,
      "outputs": [
        {
          "output_type": "stream",
          "name": "stdout",
          "text": [
            "The average song-level sentiment score of female artists is 0.32\n"
          ]
        }
      ]
    },
    {
      "cell_type": "code",
      "metadata": {
        "colab": {
          "base_uri": "https://localhost:8080/"
        },
        "id": "VcPCObW3KBpr",
        "outputId": "e59d8323-df61-4b36-adb8-80adc4453220"
      },
      "source": [
        "print('The average verse-level sentiment score of male artists is ' + str(round(male_scores['Verse-Level-Average'].mean(),2)))"
      ],
      "execution_count": null,
      "outputs": [
        {
          "output_type": "stream",
          "name": "stdout",
          "text": [
            "The average verse-level sentiment score of male artists is -0.05\n"
          ]
        }
      ]
    },
    {
      "cell_type": "code",
      "metadata": {
        "colab": {
          "base_uri": "https://localhost:8080/"
        },
        "id": "5DCQh6SKKECB",
        "outputId": "9a2fec8f-a872-4f04-a0e3-280cebfdc812"
      },
      "source": [
        "print('The average song-level sentiment score of male artists is ' + str(round(male_scores['Song-Level-Average'].mean(),2)))"
      ],
      "execution_count": null,
      "outputs": [
        {
          "output_type": "stream",
          "name": "stdout",
          "text": [
            "The average song-level sentiment score of male artists is -0.13\n"
          ]
        }
      ]
    },
    {
      "cell_type": "markdown",
      "metadata": {
        "id": "5f0IF0t5KOdC"
      },
      "source": [
        "Among the 2020's top 10 albums from female artists, the average verse-level sentiment score of women's lyrics is around 0.15, suggesting the songs written by female artists are nearly neutral. The average song-level sentiment score of women's lyrics, which is 0.32, however, \n",
        "suggests that the lyrics written by female artists are moderately positive. \n",
        "\n",
        "Among the top 10 albums created by male artists, the mean verse-level sentiment score is around -0.05, which is nearly neutral. The mean song-level score, - 0.13, is slghtly more negative but still falls into the \"neutral\" category.\n",
        "\n",
        "Comparing these sentiment scores together, we can conclude that songs in the most streamed albums from female artists are more positive in nature, but the lyrics in men's albums are a little more negative. The differences between women's lyrics and men's lyrices are subtle, but they are still telling about the relationship between streaming behavior and gender biases. Audiences prefer to listen to more positive songs from female artists but slightly negative songs created by male artists. This finding can also be indicative of the gender norms in music composition, suggesting that female artists tend to write more positive songs and male artists tend to create more negative and neutral music."
      ]
    },
    {
      "cell_type": "markdown",
      "metadata": {
        "id": "eRyXiAyaKk4w"
      },
      "source": [
        "# Stage 3: Exploring our Data + Next Steps"
      ]
    },
    {
      "cell_type": "markdown",
      "metadata": {
        "id": "jgD3DUdVqAzq"
      },
      "source": [
        "### Visualizations \n",
        "\n",
        "Let's compare the verse level sentiment scores of both men and women in histograms."
      ]
    },
    {
      "cell_type": "code",
      "metadata": {
        "id": "_0s3CV4OqIzV"
      },
      "source": [
        "import matplotlib.pyplot as plt\n",
        "import seaborn"
      ],
      "execution_count": null,
      "outputs": []
    },
    {
      "cell_type": "code",
      "metadata": {
        "colab": {
          "base_uri": "https://localhost:8080/",
          "height": 1000
        },
        "id": "o9dVfGKKqMce",
        "outputId": "cca240b2-2c64-4b26-c451-02073f05a8a9"
      },
      "source": [
        "female_scores = female_scores.sort_values('Verse-Level-Average')\n",
        "albums = female_scores['Album']\n",
        "verse_scores = female_scores['Verse-Level-Average']\n",
        "\n",
        "# Figure Size\n",
        "fig, ax = plt.subplots(figsize =(16, 9))\n",
        " \n",
        "# Horizontal Bar Plot\n",
        "ax.bar(albums, verse_scores)\n",
        " \n",
        "# Remove axes splines\n",
        "for s in ['top', 'bottom', 'left', 'right']:\n",
        "    ax.spines[s].set_visible(False)\n",
        " \n",
        "# Remove x, y Ticks\n",
        "ax.xaxis.set_ticks_position('none')\n",
        "ax.yaxis.set_ticks_position('none')\n",
        " \n",
        "# Add padding between axes and labels\n",
        "ax.xaxis.set_tick_params(pad = 2.5)\n",
        "ax.yaxis.set_tick_params(pad = 10)\n",
        " \n",
        "# Add x, y gridlines\n",
        "ax.grid(b = True, color ='grey',\n",
        "        linestyle ='-.', linewidth = 0.5,\n",
        "        alpha = 0.2)\n",
        " \n",
        "# Rotate x axis labels\n",
        "plt.xticks(rotation = 45)\n",
        "\n",
        " \n",
        "# Add Plot Title\n",
        "ax.set_title('Verse-Level-Average Sentiment Scores by Album (Female)',\n",
        "             loc ='left', )\n",
        " \n",
        "# Show Plot\n",
        "plt.show()\n",
        "\n",
        "# Save Image\n",
        "#from google.colab import files\n",
        "#files.download(\"female_distributions\")"
      ],
      "execution_count": null,
      "outputs": [
        {
          "output_type": "display_data",
          "data": {
            "image/png": "[encoded data removed]",
            "text/plain": [
              "<Figure size 1152x648 with 1 Axes>"
            ]
          },
          "metadata": {
            "needs_background": "light"
          }
        },
        {
          "output_type": "error",
          "ename": "FileNotFoundError",
          "evalue": "ignored",
          "traceback": [
            "\u001b[0;31m---------------------------------------------------------------------------\u001b[0m",
            "\u001b[0;31mFileNotFoundError\u001b[0m                         Traceback (most recent call last)",
            "\u001b[0;32m<ipython-input-18-87ccaba6de44>\u001b[0m in \u001b[0;36m<module>\u001b[0;34m()\u001b[0m\n\u001b[1;32m     39\u001b[0m \u001b[0;31m# Save Image\u001b[0m\u001b[0;34m\u001b[0m\u001b[0;34m\u001b[0m\u001b[0;34m\u001b[0m\u001b[0m\n\u001b[1;32m     40\u001b[0m \u001b[0;32mfrom\u001b[0m \u001b[0mgoogle\u001b[0m\u001b[0;34m.\u001b[0m\u001b[0mcolab\u001b[0m \u001b[0;32mimport\u001b[0m \u001b[0mfiles\u001b[0m\u001b[0;34m\u001b[0m\u001b[0;34m\u001b[0m\u001b[0m\n\u001b[0;32m---> 41\u001b[0;31m \u001b[0mfiles\u001b[0m\u001b[0;34m.\u001b[0m\u001b[0mdownload\u001b[0m\u001b[0;34m(\u001b[0m\u001b[0;34m\"female_distributions\"\u001b[0m\u001b[0;34m)\u001b[0m\u001b[0;34m\u001b[0m\u001b[0;34m\u001b[0m\u001b[0m\n\u001b[0m",
            "\u001b[0;32m/usr/local/lib/python3.7/dist-packages/google/colab/files.py\u001b[0m in \u001b[0;36mdownload\u001b[0;34m(filename)\u001b[0m\n\u001b[1;32m    141\u001b[0m       \u001b[0;32mraise\u001b[0m \u001b[0mOSError\u001b[0m\u001b[0;34m(\u001b[0m\u001b[0mmsg\u001b[0m\u001b[0;34m)\u001b[0m\u001b[0;34m\u001b[0m\u001b[0;34m\u001b[0m\u001b[0m\n\u001b[1;32m    142\u001b[0m     \u001b[0;32melse\u001b[0m\u001b[0;34m:\u001b[0m\u001b[0;34m\u001b[0m\u001b[0;34m\u001b[0m\u001b[0m\n\u001b[0;32m--> 143\u001b[0;31m       \u001b[0;32mraise\u001b[0m \u001b[0mFileNotFoundError\u001b[0m\u001b[0;34m(\u001b[0m\u001b[0mmsg\u001b[0m\u001b[0;34m)\u001b[0m  \u001b[0;31m# pylint: disable=undefined-variable\u001b[0m\u001b[0;34m\u001b[0m\u001b[0;34m\u001b[0m\u001b[0m\n\u001b[0m\u001b[1;32m    144\u001b[0m \u001b[0;34m\u001b[0m\u001b[0m\n\u001b[1;32m    145\u001b[0m   \u001b[0mcomm_manager\u001b[0m \u001b[0;34m=\u001b[0m \u001b[0m_IPython\u001b[0m\u001b[0;34m.\u001b[0m\u001b[0mget_ipython\u001b[0m\u001b[0;34m(\u001b[0m\u001b[0;34m)\u001b[0m\u001b[0;34m.\u001b[0m\u001b[0mkernel\u001b[0m\u001b[0;34m.\u001b[0m\u001b[0mcomm_manager\u001b[0m\u001b[0;34m\u001b[0m\u001b[0;34m\u001b[0m\u001b[0m\n",
            "\u001b[0;31mFileNotFoundError\u001b[0m: Cannot find file: female_distributions"
          ]
        }
      ]
    },
    {
      "cell_type": "code",
      "metadata": {
        "colab": {
          "base_uri": "https://localhost:8080/",
          "height": 674
        },
        "id": "-R78CNw8tyI_",
        "outputId": "a315469d-0054-480b-959f-9a24f5dac912"
      },
      "source": [
        "male_scores = male_scores.sort_values('Verse-Level-Average')\n",
        "albums = male_scores['Album']\n",
        "verse_scores = male_scores['Verse-Level-Average']\n",
        "\n",
        "# Figure Size\n",
        "fig, ax = plt.subplots(figsize =(16, 9))\n",
        " \n",
        "# Horizontal Bar Plot\n",
        "ax.bar(albums, verse_scores)\n",
        " \n",
        "# Remove axes splines\n",
        "for s in ['top', 'bottom', 'left', 'right']:\n",
        "    ax.spines[s].set_visible(False)\n",
        " \n",
        "# Remove x, y Ticks\n",
        "ax.xaxis.set_ticks_position('none')\n",
        "ax.yaxis.set_ticks_position('none')\n",
        " \n",
        "# Add padding between axes and labels\n",
        "ax.xaxis.set_tick_params(pad = 5)\n",
        "ax.yaxis.set_tick_params(pad = 10)\n",
        "\n",
        " \n",
        "# Add x, y gridlines\n",
        "ax.grid(b = True, color ='grey',\n",
        "        linestyle ='-.', linewidth = 0.5,\n",
        "        alpha = 0.2)\n",
        "# Rotate x axis labels\n",
        "plt.xticks(rotation = 45)\n",
        "\n",
        "# Add Plot Title\n",
        "ax.set_title('Verse-Level-Average Sentiment Scores by Album (Male)',\n",
        "             loc ='left', )\n",
        " \n",
        "# Show Plot\n",
        "plt.show()"
      ],
      "execution_count": null,
      "outputs": [
        {
          "output_type": "display_data",
          "data": {
            "image/png": "[encoded data removed]",
            "text/plain": [
              "<Figure size 1152x648 with 1 Axes>"
            ]
          },
          "metadata": {
            "needs_background": "light"
          }
        }
      ]
    }
  ]
}